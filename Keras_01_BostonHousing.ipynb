{
  "nbformat": 4,
  "nbformat_minor": 0,
  "metadata": {
    "kernelspec": {
      "display_name": "Python 3",
      "language": "python",
      "name": "python3"
    },
    "language_info": {
      "codemirror_mode": {
        "name": "ipython",
        "version": 3
      },
      "file_extension": ".py",
      "mimetype": "text/x-python",
      "name": "python",
      "nbconvert_exporter": "python",
      "pygments_lexer": "ipython3",
      "version": "3.7.4"
    },
    "colab": {
      "name": "CE_ML_Project_01_BostonHousing.ipynb",
      "provenance": [],
      "include_colab_link": true
    }
  },
  "cells": [
    {
      "cell_type": "markdown",
      "metadata": {
        "id": "view-in-github",
        "colab_type": "text"
      },
      "source": [
        "<a href=\"https://colab.research.google.com/github/semant/finance/blob/master/Keras_01_BostonHousing.ipynb\" target=\"_parent\"><img src=\"https://colab.research.google.com/assets/colab-badge.svg\" alt=\"Open In Colab\"/></a>"
      ]
    },
    {
      "cell_type": "markdown",
      "metadata": {
        "id": "3OYSf3LBrUeB",
        "colab_type": "text"
      },
      "source": [
        "# Keras Project - Boston Housing"
      ]
    },
    {
      "cell_type": "markdown",
      "metadata": {
        "id": "rnwO9vzMrUeF",
        "colab_type": "text"
      },
      "source": [
        "### Introduction\n",
        "\n",
        "The Boston Housing database consists of 506 housing prices. Each house has 13 characteristics which is to be used to predict the house price. This analysis uses Keras with Tensorflow backend to predict the housing price. \n",
        "\n",
        "### Methodology\n",
        "+ The 13 characteristics have different ranges of values, the values are initially scaled to improve model fit.\n",
        "+ Different combination of dense layers are attempted to identify a combination that does not underfit or overfit the data.\n",
        "\n",
        "### Conclusion\n",
        "+ The optimal combination of dense layers consisted of 3 layers of 8, 8, and 16 nodes each. This resulted in an accuracy error in test data dropping from $23208.71 to $2838.70.\n",
        "+ Changing the loss metric from MSE to MAE increased the loss, so, using MSE would be the recommended method."
      ]
    },
    {
      "cell_type": "code",
      "metadata": {
        "id": "Cg-IOdTYrUeH",
        "colab_type": "code",
        "colab": {},
        "outputId": "eae446cb-0cd9-4dfa-f2b2-cb5674555a80"
      },
      "source": [
        "! pip install Keras\n",
        "! pip install --upgrade tensorflow"
      ],
      "execution_count": 0,
      "outputs": [
        {
          "output_type": "stream",
          "text": [
            "Requirement already satisfied: Keras in /opt/anaconda3/lib/python3.7/site-packages (2.3.1)\n",
            "Requirement already satisfied: keras-preprocessing>=1.0.5 in /opt/anaconda3/lib/python3.7/site-packages (from Keras) (1.1.0)\n",
            "Requirement already satisfied: pyyaml in /opt/anaconda3/lib/python3.7/site-packages (from Keras) (5.1.2)\n",
            "Requirement already satisfied: numpy>=1.9.1 in /opt/anaconda3/lib/python3.7/site-packages (from Keras) (1.17.2)\n",
            "Requirement already satisfied: h5py in /opt/anaconda3/lib/python3.7/site-packages (from Keras) (2.9.0)\n",
            "Requirement already satisfied: keras-applications>=1.0.6 in /opt/anaconda3/lib/python3.7/site-packages (from Keras) (1.0.8)\n",
            "Requirement already satisfied: scipy>=0.14 in /opt/anaconda3/lib/python3.7/site-packages (from Keras) (1.3.1)\n",
            "Requirement already satisfied: six>=1.9.0 in /opt/anaconda3/lib/python3.7/site-packages (from Keras) (1.12.0)\n",
            "Requirement already up-to-date: tensorflow in /opt/anaconda3/lib/python3.7/site-packages (2.0.0)\n",
            "Requirement already satisfied, skipping upgrade: grpcio>=1.8.6 in /opt/anaconda3/lib/python3.7/site-packages (from tensorflow) (1.26.0)\n",
            "Requirement already satisfied, skipping upgrade: wheel>=0.26 in /opt/anaconda3/lib/python3.7/site-packages (from tensorflow) (0.33.6)\n",
            "Requirement already satisfied, skipping upgrade: protobuf>=3.6.1 in /opt/anaconda3/lib/python3.7/site-packages (from tensorflow) (3.11.2)\n",
            "Requirement already satisfied, skipping upgrade: gast==0.2.2 in /opt/anaconda3/lib/python3.7/site-packages (from tensorflow) (0.2.2)\n",
            "Requirement already satisfied, skipping upgrade: opt-einsum>=2.3.2 in /opt/anaconda3/lib/python3.7/site-packages (from tensorflow) (3.1.0)\n",
            "Requirement already satisfied, skipping upgrade: keras-applications>=1.0.8 in /opt/anaconda3/lib/python3.7/site-packages (from tensorflow) (1.0.8)\n",
            "Requirement already satisfied, skipping upgrade: termcolor>=1.1.0 in /opt/anaconda3/lib/python3.7/site-packages (from tensorflow) (1.1.0)\n",
            "Requirement already satisfied, skipping upgrade: tensorflow-estimator<2.1.0,>=2.0.0 in /opt/anaconda3/lib/python3.7/site-packages (from tensorflow) (2.0.1)\n",
            "Requirement already satisfied, skipping upgrade: absl-py>=0.7.0 in /opt/anaconda3/lib/python3.7/site-packages (from tensorflow) (0.9.0)\n",
            "Requirement already satisfied, skipping upgrade: google-pasta>=0.1.6 in /opt/anaconda3/lib/python3.7/site-packages (from tensorflow) (0.1.8)\n",
            "Requirement already satisfied, skipping upgrade: keras-preprocessing>=1.0.5 in /opt/anaconda3/lib/python3.7/site-packages (from tensorflow) (1.1.0)\n",
            "Requirement already satisfied, skipping upgrade: numpy<2.0,>=1.16.0 in /opt/anaconda3/lib/python3.7/site-packages (from tensorflow) (1.17.2)\n",
            "Requirement already satisfied, skipping upgrade: wrapt>=1.11.1 in /opt/anaconda3/lib/python3.7/site-packages (from tensorflow) (1.11.2)\n",
            "Requirement already satisfied, skipping upgrade: tensorboard<2.1.0,>=2.0.0 in /opt/anaconda3/lib/python3.7/site-packages (from tensorflow) (2.0.2)\n",
            "Requirement already satisfied, skipping upgrade: six>=1.10.0 in /opt/anaconda3/lib/python3.7/site-packages (from tensorflow) (1.12.0)\n",
            "Requirement already satisfied, skipping upgrade: astor>=0.6.0 in /opt/anaconda3/lib/python3.7/site-packages (from tensorflow) (0.8.1)\n",
            "Requirement already satisfied, skipping upgrade: setuptools in /opt/anaconda3/lib/python3.7/site-packages (from protobuf>=3.6.1->tensorflow) (41.4.0)\n",
            "Requirement already satisfied, skipping upgrade: h5py in /opt/anaconda3/lib/python3.7/site-packages (from keras-applications>=1.0.8->tensorflow) (2.9.0)\n",
            "Requirement already satisfied, skipping upgrade: markdown>=2.6.8 in /opt/anaconda3/lib/python3.7/site-packages (from tensorboard<2.1.0,>=2.0.0->tensorflow) (3.1.1)\n",
            "Requirement already satisfied, skipping upgrade: google-auth-oauthlib<0.5,>=0.4.1 in /opt/anaconda3/lib/python3.7/site-packages (from tensorboard<2.1.0,>=2.0.0->tensorflow) (0.4.1)\n",
            "Requirement already satisfied, skipping upgrade: requests<3,>=2.21.0 in /opt/anaconda3/lib/python3.7/site-packages (from tensorboard<2.1.0,>=2.0.0->tensorflow) (2.22.0)\n",
            "Requirement already satisfied, skipping upgrade: werkzeug>=0.11.15 in /opt/anaconda3/lib/python3.7/site-packages (from tensorboard<2.1.0,>=2.0.0->tensorflow) (0.16.0)\n",
            "Requirement already satisfied, skipping upgrade: google-auth<2,>=1.6.3 in /opt/anaconda3/lib/python3.7/site-packages (from tensorboard<2.1.0,>=2.0.0->tensorflow) (1.10.0)\n",
            "Requirement already satisfied, skipping upgrade: requests-oauthlib>=0.7.0 in /opt/anaconda3/lib/python3.7/site-packages (from google-auth-oauthlib<0.5,>=0.4.1->tensorboard<2.1.0,>=2.0.0->tensorflow) (1.3.0)\n",
            "Requirement already satisfied, skipping upgrade: urllib3!=1.25.0,!=1.25.1,<1.26,>=1.21.1 in /opt/anaconda3/lib/python3.7/site-packages (from requests<3,>=2.21.0->tensorboard<2.1.0,>=2.0.0->tensorflow) (1.24.2)\n",
            "Requirement already satisfied, skipping upgrade: idna<2.9,>=2.5 in /opt/anaconda3/lib/python3.7/site-packages (from requests<3,>=2.21.0->tensorboard<2.1.0,>=2.0.0->tensorflow) (2.8)\n",
            "Requirement already satisfied, skipping upgrade: chardet<3.1.0,>=3.0.2 in /opt/anaconda3/lib/python3.7/site-packages (from requests<3,>=2.21.0->tensorboard<2.1.0,>=2.0.0->tensorflow) (3.0.4)\n",
            "Requirement already satisfied, skipping upgrade: certifi>=2017.4.17 in /opt/anaconda3/lib/python3.7/site-packages (from requests<3,>=2.21.0->tensorboard<2.1.0,>=2.0.0->tensorflow) (2019.9.11)\n",
            "Requirement already satisfied, skipping upgrade: pyasn1-modules>=0.2.1 in /opt/anaconda3/lib/python3.7/site-packages (from google-auth<2,>=1.6.3->tensorboard<2.1.0,>=2.0.0->tensorflow) (0.2.7)\n",
            "Requirement already satisfied, skipping upgrade: rsa<4.1,>=3.1.4 in /opt/anaconda3/lib/python3.7/site-packages (from google-auth<2,>=1.6.3->tensorboard<2.1.0,>=2.0.0->tensorflow) (4.0)\n",
            "Requirement already satisfied, skipping upgrade: cachetools<5.0,>=2.0.0 in /opt/anaconda3/lib/python3.7/site-packages (from google-auth<2,>=1.6.3->tensorboard<2.1.0,>=2.0.0->tensorflow) (4.0.0)\n",
            "Requirement already satisfied, skipping upgrade: oauthlib>=3.0.0 in /opt/anaconda3/lib/python3.7/site-packages (from requests-oauthlib>=0.7.0->google-auth-oauthlib<0.5,>=0.4.1->tensorboard<2.1.0,>=2.0.0->tensorflow) (3.1.0)\n",
            "Requirement already satisfied, skipping upgrade: pyasn1<0.5.0,>=0.4.6 in /opt/anaconda3/lib/python3.7/site-packages (from pyasn1-modules>=0.2.1->google-auth<2,>=1.6.3->tensorboard<2.1.0,>=2.0.0->tensorflow) (0.4.8)\n"
          ],
          "name": "stdout"
        }
      ]
    },
    {
      "cell_type": "code",
      "metadata": {
        "id": "TFzAVSYurUeQ",
        "colab_type": "code",
        "colab": {},
        "outputId": "c00fc4de-a92e-4c5d-b5fe-7caa27db95c8"
      },
      "source": [
        "import numpy as np\n",
        "import matplotlib.pyplot as plt\n",
        "%matplotlib inline\n",
        "\n",
        "from keras.models import Sequential\n",
        "from keras.layers import Dense, Activation\n",
        "from keras.utils import np_utils\n",
        "\n",
        "from keras.datasets import boston_housing\n",
        "\n",
        "from sklearn.preprocessing import StandardScaler\n",
        "scaler = StandardScaler()\n",
        "(X_train, y_train), (X_test, y_test) =  boston_housing.load_data()\n",
        "print(X_train.shape, y_train.shape)\n",
        "print(X_test.shape, y_test.shape)"
      ],
      "execution_count": 0,
      "outputs": [
        {
          "output_type": "stream",
          "text": [
            "Using TensorFlow backend.\n"
          ],
          "name": "stderr"
        },
        {
          "output_type": "stream",
          "text": [
            "(404, 13) (404,)\n",
            "(102, 13) (102,)\n"
          ],
          "name": "stdout"
        }
      ]
    },
    {
      "cell_type": "markdown",
      "metadata": {
        "id": "whFPybnzrUeU",
        "colab_type": "text"
      },
      "source": [
        "### Scaling the input data\n",
        "Only Training data is scaled, not Test data"
      ]
    },
    {
      "cell_type": "code",
      "metadata": {
        "id": "uS5iBdyOrUeW",
        "colab_type": "code",
        "colab": {},
        "outputId": "3ce3bf81-45b8-4916-8328-0de9e1739f0b"
      },
      "source": [
        "scaler.fit(X_train)"
      ],
      "execution_count": 0,
      "outputs": [
        {
          "output_type": "execute_result",
          "data": {
            "text/plain": [
              "StandardScaler(copy=True, with_mean=True, with_std=True)"
            ]
          },
          "metadata": {
            "tags": []
          },
          "execution_count": 3
        }
      ]
    },
    {
      "cell_type": "code",
      "metadata": {
        "id": "ukUpBoSLrUed",
        "colab_type": "code",
        "colab": {},
        "outputId": "26885c81-98e2-4df4-99fc-1a89eb0a417f"
      },
      "source": [
        "# then we call the transform method to scale both the training and testing data\n",
        "X_train_scaled = scaler.transform(X_train)\n",
        "X_test_scaled = scaler.transform(X_test)\n",
        "\n",
        "# a sample output\n",
        "print(X_train_scaled[0])"
      ],
      "execution_count": 0,
      "outputs": [
        {
          "output_type": "stream",
          "text": [
            "[-0.27224633 -0.48361547 -0.43576161 -0.25683275 -0.1652266  -0.1764426\n",
            "  0.81306188  0.1166983  -0.62624905 -0.59517003  1.14850044  0.44807713\n",
            "  0.8252202 ]\n"
          ],
          "name": "stdout"
        }
      ]
    },
    {
      "cell_type": "markdown",
      "metadata": {
        "id": "Blfxpd8VrUei",
        "colab_type": "text"
      },
      "source": [
        "### Model # 1"
      ]
    },
    {
      "cell_type": "code",
      "metadata": {
        "id": "Oz5foUz8rUel",
        "colab_type": "code",
        "colab": {},
        "outputId": "0499dc8a-7006-478b-cb0e-8250297ba4fa"
      },
      "source": [
        "from keras import models, layers\n",
        "model = models.Sequential()\n",
        "model.add(layers.Dense(4, activation='relu', input_shape=[X_train.shape[1]]))\n",
        "model.add(layers.Dense(8, activation='relu'))\n",
        "model.add(layers.Dense(1))\n",
        "model.compile(optimizer='rmsprop', loss='mse', metrics=['mse'])\n",
        "\n",
        "history = model.fit(X_train_scaled, y_train, verbose = 0, validation_split=0.2, epochs=100) \n",
        "# Plot training & validation accuracy values\n",
        "plt.plot(history.history['mse'], 'k-')\n",
        "plt.plot(history.history['val_mse'], 'b.')\n",
        "plt.title('Model accuracy')\n",
        "plt.ylabel('Accuracy')\n",
        "plt.xlabel('Epoch')\n",
        "plt.legend(['Train', 'Test'])#, loc='upper left')\n",
        "plt.show()\n",
        "\n",
        "v1 = round(history.history['mse'][0]*1000,2)\n",
        "v2 = round(history.history['mse'][-1]*1000,2)\n",
        "v3 = round(history.history['val_mse'][0]*1000,2)\n",
        "v4 = round(history.history['val_mse'][-1]*1000,2)\n",
        "print(\"Train - Error in predicting housing prices went down from ${} to ${}\".format(v1, v2))\n",
        "print(\"Test  - Error in predicting housing prices went down from ${} to ${}\".format(v3, v4), \"\\n\")\n",
        "\n",
        "\n",
        "# Plot training & validation loss values\n",
        "plt.plot(history.history['loss'], 'k-')\n",
        "plt.plot(history.history['val_loss'], 'b.')\n",
        "plt.title('Model loss')\n",
        "plt.ylabel('Loss')\n",
        "plt.xlabel('Epoch')\n",
        "plt.legend(['Train', 'Test'])#, loc='upper left')\n",
        "plt.show()\n",
        "\n",
        "# Model evaluation\n",
        "model.evaluate(X_test_scaled, y_test)"
      ],
      "execution_count": 0,
      "outputs": [
        {
          "output_type": "display_data",
          "data": {
            "image/png": "[encoded data removed]",
            "text/plain": [
              "<Figure size 432x288 with 1 Axes>"
            ]
          },
          "metadata": {
            "tags": [],
            "needs_background": "light"
          }
        },
        {
          "output_type": "stream",
          "text": [
            "Train - Error in predicting housing prices went down from $569953.37 to $33441.82\n",
            "Test  - Error in predicting housing prices went down from $634990.17 to $29984.52 \n",
            "\n"
          ],
          "name": "stdout"
        },
        {
          "output_type": "display_data",
          "data": {
            "image/png": "[encoded data removed]",
            "text/plain": [
              "<Figure size 432x288 with 1 Axes>"
            ]
          },
          "metadata": {
            "tags": [],
            "needs_background": "light"
          }
        },
        {
          "output_type": "stream",
          "text": [
            "102/102 [==============================] - 0s 56us/step\n"
          ],
          "name": "stdout"
        },
        {
          "output_type": "execute_result",
          "data": {
            "text/plain": [
              "[29.456298379337085, 29.456298828125]"
            ]
          },
          "metadata": {
            "tags": []
          },
          "execution_count": 5
        }
      ]
    },
    {
      "cell_type": "markdown",
      "metadata": {
        "id": "B33NukLdrUer",
        "colab_type": "text"
      },
      "source": [
        "**Observation**\n",
        "\n",
        "As the error is still decreasing for both train and test cases, the model is underfitting the data. As more data can not be added, adding more layer could help.\n",
        "\n",
        "### Model # 2"
      ]
    },
    {
      "cell_type": "code",
      "metadata": {
        "id": "LHMV2198rUet",
        "colab_type": "code",
        "colab": {},
        "outputId": "f5ea294f-b14e-4106-9434-13a1e89f54fe"
      },
      "source": [
        "from keras import models, layers\n",
        "model = models.Sequential()\n",
        "model.add(layers.Dense(8, activation='relu', input_shape=[X_train.shape[1]]))\n",
        "model.add(layers.Dense(16, activation='relu'))\n",
        "model.add(layers.Dense(1))\n",
        "model.compile(optimizer='rmsprop', loss='mse', metrics=['mse'])\n",
        "\n",
        "history = model.fit(X_train_scaled, y_train, verbose = 0, validation_split=0.2, epochs=100) \n",
        "# Plot training & validation accuracy values\n",
        "plt.plot(history.history['mse'], 'k-')\n",
        "plt.plot(history.history['val_mse'], 'b.')\n",
        "plt.title('Model accuracy')\n",
        "plt.ylabel('Accuracy')\n",
        "plt.xlabel('Epoch')\n",
        "plt.legend(['Train', 'Test'])#, loc='upper left')\n",
        "plt.show()\n",
        "\n",
        "v1 = round(history.history['mse'][0]*1000,2)\n",
        "v2 = round(history.history['mse'][-1]*1000,2)\n",
        "v3 = round(history.history['val_mse'][0]*1000,2)\n",
        "v4 = round(history.history['val_mse'][-1]*1000,2)\n",
        "print(\"Train - Error in predicting housing prices went down from ${} to ${}\".format(v1, v2))\n",
        "print(\"Test  - Error in predicting housing prices went down from ${} to ${}\".format(v3, v4), \"\\n\")\n",
        "\n",
        "\n",
        "# Plot training & validation loss values\n",
        "plt.plot(history.history['loss'], 'k-')\n",
        "plt.plot(history.history['val_loss'], 'b.')\n",
        "plt.title('Model loss')\n",
        "plt.ylabel('Loss')\n",
        "plt.xlabel('Epoch')\n",
        "plt.legend(['Train', 'Test'])#, loc='upper left')\n",
        "plt.show()\n",
        "\n",
        "# Model evaluation\n",
        "model.evaluate(X_test_scaled, y_test)"
      ],
      "execution_count": 0,
      "outputs": [
        {
          "output_type": "display_data",
          "data": {
            "image/png": "[encoded data removed]",
            "text/plain": [
              "<Figure size 432x288 with 1 Axes>"
            ]
          },
          "metadata": {
            "tags": [],
            "needs_background": "light"
          }
        },
        {
          "output_type": "stream",
          "text": [
            "Train - Error in predicting housing prices went down from $584119.26 to $20174.12\n",
            "Test  - Error in predicting housing prices went down from $650760.99 to $25267.22 \n",
            "\n"
          ],
          "name": "stdout"
        },
        {
          "output_type": "display_data",
          "data": {
            "image/png": "[encoded data removed]",
            "text/plain": [
              "<Figure size 432x288 with 1 Axes>"
            ]
          },
          "metadata": {
            "tags": [],
            "needs_background": "light"
          }
        },
        {
          "output_type": "stream",
          "text": [
            "102/102 [==============================] - 0s 71us/step\n"
          ],
          "name": "stdout"
        },
        {
          "output_type": "execute_result",
          "data": {
            "text/plain": [
              "[25.3950569302428, 25.395057678222656]"
            ]
          },
          "metadata": {
            "tags": []
          },
          "execution_count": 6
        }
      ]
    },
    {
      "cell_type": "markdown",
      "metadata": {
        "id": "KKRj_5g2rUew",
        "colab_type": "text"
      },
      "source": [
        "**Observation**\n",
        "\n",
        "As the error is still decreasing a little bit for both train and test cases, the model is slightly underfitting the data. As more data can not be added, adding more layer could help.\n",
        "\n",
        "### Model # 3"
      ]
    },
    {
      "cell_type": "code",
      "metadata": {
        "id": "iI5QC3DlrUex",
        "colab_type": "code",
        "colab": {},
        "outputId": "6fce0436-98f4-4e68-ce02-c859013a8695"
      },
      "source": [
        "from keras import models, layers\n",
        "model = models.Sequential()\n",
        "model.add(layers.Dense(8, activation='relu', input_shape=[X_train.shape[1]]))\n",
        "model.add(layers.Dense(8, activation='relu'))\n",
        "model.add(layers.Dense(16, activation='relu'))\n",
        "model.add(layers.Dense(1))\n",
        "model.compile(optimizer='rmsprop', loss='mse', metrics=['mse'])\n",
        "\n",
        "history = model.fit(X_train_scaled, y_train, verbose = 0, validation_split=0.2, epochs=100)\n",
        "\n",
        "# Plot training & validation accuracy values\n",
        "plt.plot(history.history['mse'], 'k-')\n",
        "plt.plot(history.history['val_mse'], 'b.')\n",
        "plt.title('Model accuracy')\n",
        "plt.ylabel('Accuracy')\n",
        "plt.xlabel('Epoch')\n",
        "plt.legend(['Train', 'Test'])#, loc='upper left')\n",
        "plt.show()\n",
        "\n",
        "v1 = round(history.history['mse'][0]*1000,2)\n",
        "v2 = round(history.history['mse'][-1]*1000,2)\n",
        "v3 = round(history.history['val_mse'][0]*1000,2)\n",
        "v4 = round(history.history['val_mse'][-1]*1000,2)\n",
        "print(\"Train - Error in predicting housing prices went down from ${} to ${}\".format(v1, v2))\n",
        "print(\"Test  - Error in predicting housing prices went down from ${} to ${}\".format(v3, v4), \"\\n\")\n",
        "\n",
        "# Plot training & validation loss values\n",
        "plt.plot(history.history['loss'], 'k-')\n",
        "plt.plot(history.history['val_loss'], 'b.')\n",
        "plt.title('Model loss')\n",
        "plt.ylabel('Loss')\n",
        "plt.xlabel('Epoch')\n",
        "plt.legend(['Train', 'Test'])#, loc='upper left')\n",
        "plt.show()\n",
        "\n",
        "# Model evaluation\n",
        "model.evaluate(X_test_scaled, y_test)"
      ],
      "execution_count": 0,
      "outputs": [
        {
          "output_type": "display_data",
          "data": {
            "image/png": "[encoded data removed]",
            "text/plain": [
              "<Figure size 432x288 with 1 Axes>"
            ]
          },
          "metadata": {
            "tags": [],
            "needs_background": "light"
          }
        },
        {
          "output_type": "stream",
          "text": [
            "Train - Error in predicting housing prices went down from $567016.91 to $16037.34\n",
            "Test  - Error in predicting housing prices went down from $630518.74 to $18229.68 \n",
            "\n"
          ],
          "name": "stdout"
        },
        {
          "output_type": "display_data",
          "data": {
            "image/png": "[encoded data removed]",
            "text/plain": [
              "<Figure size 432x288 with 1 Axes>"
            ]
          },
          "metadata": {
            "tags": [],
            "needs_background": "light"
          }
        },
        {
          "output_type": "stream",
          "text": [
            "102/102 [==============================] - 0s 78us/step\n"
          ],
          "name": "stdout"
        },
        {
          "output_type": "execute_result",
          "data": {
            "text/plain": [
              "[23.022257337383195, 23.02225685119629]"
            ]
          },
          "metadata": {
            "tags": []
          },
          "execution_count": 7
        }
      ]
    },
    {
      "cell_type": "markdown",
      "metadata": {
        "id": "ejQGWQzRrUe0",
        "colab_type": "text"
      },
      "source": [
        "**Observation**\n",
        "\n",
        "As the accuracy or loss is no longer decreasing for both train and test cases, the model seems to be fitting the data just right. Still, to be sure, additional layers can be added to check for overfitting.\n",
        "\n",
        "### Model # 4"
      ]
    },
    {
      "cell_type": "code",
      "metadata": {
        "id": "X19ozez9rUe2",
        "colab_type": "code",
        "colab": {},
        "outputId": "3f8b0b63-a92c-4f8a-fc06-4f0d9f220ac5"
      },
      "source": [
        "from keras import models, layers\n",
        "model = models.Sequential()\n",
        "model.add(layers.Dense(8, activation='relu', input_shape=[X_train.shape[1]]))\n",
        "model.add(layers.Dense(8, activation='relu'))\n",
        "model.add(layers.Dense(8, activation='relu'))\n",
        "model.add(layers.Dense(8, activation='relu'))\n",
        "model.add(layers.Dense(16, activation='relu'))\n",
        "model.add(layers.Dense(16, activation='relu'))\n",
        "model.add(layers.Dense(1))\n",
        "model.compile(optimizer='rmsprop', loss='mse', metrics=['mae'])\n",
        "\n",
        "history = model.fit(X_train_scaled, y_train, verbose = 0, validation_split=0.2, epochs=100)\n",
        "\n",
        "# Plot training & validation accuracy values\n",
        "plt.plot(history.history['mse'], 'k-')\n",
        "plt.plot(history.history['val_mse'], 'b.')\n",
        "plt.title('Model accuracy')\n",
        "plt.ylabel('Accuracy')\n",
        "plt.xlabel('Epoch')\n",
        "plt.legend(['Train', 'Test'])#, loc='upper left')\n",
        "plt.show()\n",
        "\n",
        "v1 = round(history.history['mse'][0]*1000,2)\n",
        "v2 = round(history.history['mse'][-1]*1000,2)\n",
        "v3 = round(history.history['val_mse'][0]*1000,2)\n",
        "v4 = round(history.history['val_mse'][-1]*1000,2)\n",
        "print(\"Train - Error in predicting housing prices went down from ${} to ${}\".format(v1, v2))\n",
        "print(\"Test  - Error in predicting housing prices went down from ${} to ${}\".format(v3, v4), \"\\n\")\n",
        "\n",
        "# Plot training & validation loss values\n",
        "plt.plot(history.history['loss'], 'k-')\n",
        "plt.plot(history.history['val_loss'], 'b.')\n",
        "plt.title('Model loss')\n",
        "plt.ylabel('Loss')\n",
        "plt.xlabel('Epoch')\n",
        "plt.legend(['Train', 'Test'])#, loc='upper left')\n",
        "plt.show()\n",
        "\n",
        "# Model evaluation\n",
        "model.evaluate(X_test_scaled, y_test)"
      ],
      "execution_count": 0,
      "outputs": [
        {
          "output_type": "error",
          "ename": "KeyError",
          "evalue": "'mse'",
          "traceback": [
            "\u001b[0;31m---------------------------------------------------------------------------\u001b[0m",
            "\u001b[0;31mKeyError\u001b[0m                                  Traceback (most recent call last)",
            "\u001b[0;32m<ipython-input-8-e777a4beb5e8>\u001b[0m in \u001b[0;36m<module>\u001b[0;34m\u001b[0m\n\u001b[1;32m     13\u001b[0m \u001b[0;34m\u001b[0m\u001b[0m\n\u001b[1;32m     14\u001b[0m \u001b[0;31m# Plot training & validation accuracy values\u001b[0m\u001b[0;34m\u001b[0m\u001b[0;34m\u001b[0m\u001b[0;34m\u001b[0m\u001b[0m\n\u001b[0;32m---> 15\u001b[0;31m \u001b[0mplt\u001b[0m\u001b[0;34m.\u001b[0m\u001b[0mplot\u001b[0m\u001b[0;34m(\u001b[0m\u001b[0mhistory\u001b[0m\u001b[0;34m.\u001b[0m\u001b[0mhistory\u001b[0m\u001b[0;34m[\u001b[0m\u001b[0;34m'mse'\u001b[0m\u001b[0;34m]\u001b[0m\u001b[0;34m,\u001b[0m \u001b[0;34m'k-'\u001b[0m\u001b[0;34m)\u001b[0m\u001b[0;34m\u001b[0m\u001b[0;34m\u001b[0m\u001b[0m\n\u001b[0m\u001b[1;32m     16\u001b[0m \u001b[0mplt\u001b[0m\u001b[0;34m.\u001b[0m\u001b[0mplot\u001b[0m\u001b[0;34m(\u001b[0m\u001b[0mhistory\u001b[0m\u001b[0;34m.\u001b[0m\u001b[0mhistory\u001b[0m\u001b[0;34m[\u001b[0m\u001b[0;34m'val_mse'\u001b[0m\u001b[0;34m]\u001b[0m\u001b[0;34m,\u001b[0m \u001b[0;34m'b.'\u001b[0m\u001b[0;34m)\u001b[0m\u001b[0;34m\u001b[0m\u001b[0;34m\u001b[0m\u001b[0m\n\u001b[1;32m     17\u001b[0m \u001b[0mplt\u001b[0m\u001b[0;34m.\u001b[0m\u001b[0mtitle\u001b[0m\u001b[0;34m(\u001b[0m\u001b[0;34m'Model accuracy'\u001b[0m\u001b[0;34m)\u001b[0m\u001b[0;34m\u001b[0m\u001b[0;34m\u001b[0m\u001b[0m\n",
            "\u001b[0;31mKeyError\u001b[0m: 'mse'"
          ]
        }
      ]
    },
    {
      "cell_type": "markdown",
      "metadata": {
        "id": "ipdWGSq2rUe6",
        "colab_type": "text"
      },
      "source": [
        "**Observation**\n",
        "\n",
        "The accuracy or loss become bumpier as the number of epochs increase with a slight increase in error as well. This suggests that that model has started to overfit the data. One more test will be carried out to confirm overfitting.\n",
        "\n",
        "### Model # 5"
      ]
    },
    {
      "cell_type": "code",
      "metadata": {
        "id": "YQGd3TxnrUe6",
        "colab_type": "code",
        "colab": {}
      },
      "source": [
        "from keras import models, layers\n",
        "model = models.Sequential()\n",
        "model.add(layers.Dense(32, activation='relu', input_shape=[X_train.shape[1]]))\n",
        "model.add(layers.Dense(32, activation='relu'))\n",
        "model.add(layers.Dense(32, activation='relu'))\n",
        "model.add(layers.Dense(64, activation='relu'))\n",
        "model.add(layers.Dense(64, activation='relu'))\n",
        "model.add(layers.Dense(1))\n",
        "model.compile(optimizer='rmsprop', loss='mse', metrics=['mse'])\n",
        "\n",
        "history = model.fit(X_train_scaled, y_train, verbose = 0, validation_split=0.2, epochs=100)\n",
        "\n",
        "# Plot training & validation accuracy values\n",
        "plt.plot(history.history['mse'], 'k-')\n",
        "plt.plot(history.history['val_mse'], 'b.')\n",
        "plt.title('Model accuracy')\n",
        "plt.ylabel('Accuracy')\n",
        "plt.xlabel('Epoch')\n",
        "plt.legend(['Train', 'Test'])#, loc='upper left')\n",
        "plt.show()\n",
        "\n",
        "v1 = round(history.history['mse'][0]*1000,2)\n",
        "v2 = round(history.history['mse'][-1]*1000,2)\n",
        "v3 = round(history.history['val_mse'][0]*1000,2)\n",
        "v4 = round(history.history['val_mse'][-1]*1000,2)\n",
        "print(\"Train - Error in predicting housing prices went down from ${} to ${}\".format(v1, v2))\n",
        "print(\"Test  - Error in predicting housing prices went down from ${} to ${}\".format(v3, v4), \"\\n\")\n",
        "\n",
        "# Plot training & validation loss values\n",
        "plt.plot(history.history['loss'], 'k-')\n",
        "plt.plot(history.history['val_loss'], 'b.')\n",
        "plt.title('Model loss')\n",
        "plt.ylabel('Loss')\n",
        "plt.xlabel('Epoch')\n",
        "plt.legend(['Train', 'Test'])#, loc='upper left')\n",
        "plt.show()\n",
        "\n",
        "# Model evaluation\n",
        "model.evaluate(X_test_scaled, y_test)"
      ],
      "execution_count": 0,
      "outputs": []
    },
    {
      "cell_type": "markdown",
      "metadata": {
        "id": "nbTWDGi1rUfB",
        "colab_type": "text"
      },
      "source": [
        "**Observation**\n",
        "\n",
        "As the accuracy or loss is clearly increasing with a much bumpier accuracy as epochs increase, this means that the model is overfitting the data.\n",
        "\n",
        "### Model # 6: Evaluating change in loss metric"
      ]
    },
    {
      "cell_type": "code",
      "metadata": {
        "id": "XpXDk5xKrUfC",
        "colab_type": "code",
        "colab": {}
      },
      "source": [
        "from keras import models, layers\n",
        "model = models.Sequential()\n",
        "model.add(layers.Dense(8, activation='relu', input_shape=[X_train.shape[1]]))\n",
        "model.add(layers.Dense(8, activation='relu'))\n",
        "model.add(layers.Dense(16, activation='relu'))\n",
        "model.add(layers.Dense(1))\n",
        "model.compile(optimizer='rmsprop', loss='mae', metrics=['mae'])\n",
        "\n",
        "history = model.fit(X_train_scaled, y_train, verbose = 0, validation_split=0.2, epochs=100)\n",
        "\n",
        "# Plot training & validation accuracy values\n",
        "plt.plot(history.history['mae'], 'k-')\n",
        "plt.plot(history.history['val_mae'], 'b.')\n",
        "plt.title('Model accuracy')\n",
        "plt.ylabel('Accuracy')\n",
        "plt.xlabel('Epoch')\n",
        "plt.legend(['Train', 'Test'])#, loc='upper left')\n",
        "plt.show()\n",
        "\n",
        "v1 = round(history.history['mae'][0]*1000,2)\n",
        "v2 = round(history.history['mae'][-1]*1000,2)\n",
        "v3 = round(history.history['val_mae'][0]*1000,2)\n",
        "v4 = round(history.history['val_mae'][-1]*1000,2)\n",
        "print(\"Train - Error in predicting housing prices went down from ${} to ${}\".format(v1, v2))\n",
        "print(\"Test  - Error in predicting housing prices went down from ${} to ${}\".format(v3, v4), \"\\n\")\n",
        "\n",
        "# Plot training & validation loss values\n",
        "plt.plot(history.history['loss'], 'k-')\n",
        "plt.plot(history.history['val_loss'], 'b.')\n",
        "plt.title('Model loss')\n",
        "plt.ylabel('Loss')\n",
        "plt.xlabel('Epoch')\n",
        "plt.legend(['Train', 'Test'])#, loc='upper left')\n",
        "plt.show()\n",
        "\n",
        "# Model evaluation\n",
        "model.evaluate(X_test_scaled, y_test)"
      ],
      "execution_count": 0,
      "outputs": []
    },
    {
      "cell_type": "markdown",
      "metadata": {
        "id": "9CVZiGVsrUfE",
        "colab_type": "text"
      },
      "source": [
        "**Observation**\n",
        "\n",
        "Using the best fit model, if the accuracy metric was changed from MSE to MAE, the accuracy decreased a little bit. So, using MSE would be recommended as the loss metric."
      ]
    },
    {
      "cell_type": "code",
      "metadata": {
        "id": "OfHcuYtmrUfE",
        "colab_type": "code",
        "colab": {}
      },
      "source": [
        ""
      ],
      "execution_count": 0,
      "outputs": []
    }
  ]
}