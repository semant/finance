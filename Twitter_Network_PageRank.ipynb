{
  "nbformat": 4,
  "nbformat_minor": 0,
  "metadata": {
    "kernelspec": {
      "display_name": "Python 3",
      "language": "python",
      "name": "python3"
    },
    "language_info": {
      "codemirror_mode": {
        "name": "ipython",
        "version": 3
      },
      "file_extension": ".py",
      "mimetype": "text/x-python",
      "name": "python",
      "nbconvert_exporter": "python",
      "pygments_lexer": "ipython3",
      "version": "3.7.4"
    },
    "colab": {
      "name": "EDHEC_03_Networks.ipynb",
      "provenance": [],
      "toc_visible": true,
      "include_colab_link": true
    }
  },
  "cells": [
    {
      "cell_type": "markdown",
      "metadata": {
        "id": "view-in-github",
        "colab_type": "text"
      },
      "source": [
        "<a href=\"https://colab.research.google.com/github/semant/finance/blob/master/Twitter_Network_PageRank.ipynb\" target=\"_parent\"><img src=\"https://colab.research.google.com/assets/colab-badge.svg\" alt=\"Open In Colab\"/></a>"
      ]
    },
    {
      "cell_type": "markdown",
      "metadata": {
        "id": "W4qh-lsSl4Op",
        "colab_type": "text"
      },
      "source": [
        "# Analyzing Twitter Dataset through Page Rank to Evaluate Network Strength\n",
        "\n",
        "> Semant Jain, PhD \n",
        "> semant@gmail.com\n",
        "\n",
        "### Executive Summary\n",
        "> Understanding interconnectedness between second and third degree connections can reveal insights into supplier or customer relationships. This understanding can be used for leverage in pricing negotiations and diversification of supply chain. While individual business contracts are protected by Non Disclosure Agreements, for this analysis, public Twitter data was used to study interconnectedness between stocks.\n",
        "\n",
        "> **Analysis:**\n",
        "> This analysis had three parts:\n",
        "+ Evaluation of the raw network connectedness between stocks. This identified tickers with most unique connections, tickers with most incoming, and tickers with most outgoing connections.\n",
        "+ Cumulative Density Function as the number of unique connections increased.\n",
        "+ Ranking of tickers with weighted incoming connections. This used 'Page Rank' algorithm to evaluate network strength of each ticker.\n",
        "\n",
        "> **Conclusions:**\n",
        "> + Cumulative Density Function revealed that while the maximum number of unique connections were as large as 80, 95% of the tickers had 9 unique connections and 97% of the tickers had 16 unique connections. So, limiting examination to 9 - 16 unique connections would be sufficient to capture most of the network effects.\n",
        "> + Use of Page Rank algorithm in a connected graph weighed the quality of connections while evaluating inbound tweets. So, while raw inbound tweets made Netflix the top ticker, Page Rank revealed Amazon to the true answer. \n",
        "\n",
        "### Contents\n",
        "+ Setting Up\n",
        "    + Importing libraries\n",
        "    + Pre-processing data\n",
        "    + Converting dataframe to boolean index\n",
        "+ Network Effects\n",
        "    + Outbound connections from each ticker\n",
        "    + Building a matrix\n",
        "    + Cumulative Density Function of unique connections\n",
        "+ Network Visualization\n",
        "    + Understanding how tickers reference each other\n",
        "    + Visualization: First, Second, and Third degree connections\n",
        "+ Replicating Page Rank\n",
        "    + Converting twitter database into a matrix\n",
        "    + Visualization\n",
        "\n",
        "### Python libraries used\n",
        "+ Matplotlib\n",
        "+ Networkx\n",
        "+ Numpy\n",
        "+ Pandas\n",
        "+ Re"
      ]
    },
    {
      "cell_type": "markdown",
      "metadata": {
        "id": "HlvhAHC4l4Ov",
        "colab_type": "text"
      },
      "source": [
        "# 1. Setting up"
      ]
    },
    {
      "cell_type": "markdown",
      "metadata": {
        "id": "iy14D68Ml4Oy",
        "colab_type": "text"
      },
      "source": [
        "### Importing libraries"
      ]
    },
    {
      "cell_type": "code",
      "metadata": {
        "id": "lvEkP9X_l4O3",
        "colab_type": "code",
        "colab": {
          "base_uri": "https://localhost:8080/",
          "height": 51
        },
        "outputId": "a2532914-c2d5-4fb9-e864-efc5883d88c3"
      },
      "source": [
        "! pip install networkx\n",
        "\n",
        "import matplotlib.pyplot as plt\n",
        "import networkx as nx\n",
        "import numpy as np\n",
        "import pandas as pd\n",
        "import re"
      ],
      "execution_count": 5,
      "outputs": [
        {
          "output_type": "stream",
          "text": [
            "Requirement already satisfied: networkx in /usr/local/lib/python3.6/dist-packages (2.4)\n",
            "Requirement already satisfied: decorator>=4.3.0 in /usr/local/lib/python3.6/dist-packages (from networkx) (4.4.1)\n"
          ],
          "name": "stdout"
        }
      ]
    },
    {
      "cell_type": "markdown",
      "metadata": {
        "id": "PRNjI0o2l4PD",
        "colab_type": "text"
      },
      "source": [
        "### Pre-processing data"
      ]
    },
    {
      "cell_type": "markdown",
      "metadata": {
        "id": "39thdXCJl4PF",
        "colab_type": "text"
      },
      "source": [
        "**Read in tweets**"
      ]
    },
    {
      "cell_type": "code",
      "metadata": {
        "id": "hUuKHf8Gl4PI",
        "colab_type": "code",
        "colab": {}
      },
      "source": [
        "tweets = pd.read_excel(\"stockerbot-export.xls\")\n",
        "#print(tweets)"
      ],
      "execution_count": 0,
      "outputs": []
    },
    {
      "cell_type": "markdown",
      "metadata": {
        "id": "Nud3gvhyl4PN",
        "colab_type": "text"
      },
      "source": [
        "**The most common tickers in tweets**"
      ]
    },
    {
      "cell_type": "code",
      "metadata": {
        "id": "XtdaEsLPl4PP",
        "colab_type": "code",
        "colab": {
          "base_uri": "https://localhost:8080/",
          "height": 204
        },
        "outputId": "eda0eb50-0679-4ae5-cd7e-7591a2ed49d8"
      },
      "source": [
        "value_counts = tweets[\"symbols\"].value_counts()\n",
        "print(value_counts[:10])"
      ],
      "execution_count": 7,
      "outputs": [
        {
          "output_type": "stream",
          "text": [
            "NFLX    101\n",
            "MOMO    100\n",
            "HON     100\n",
            "MTB     100\n",
            "AMAT    100\n",
            "ES      100\n",
            "GPS     100\n",
            "MHK      99\n",
            "ESS      99\n",
            "GRPN     99\n",
            "Name: symbols, dtype: int64\n"
          ],
          "name": "stdout"
        }
      ]
    },
    {
      "cell_type": "markdown",
      "metadata": {
        "id": "2TYqQbzHl4PV",
        "colab_type": "text"
      },
      "source": [
        "**Deleting combination tickers**"
      ]
    },
    {
      "cell_type": "code",
      "metadata": {
        "id": "WMHKBgV-l4PX",
        "colab_type": "code",
        "colab": {
          "base_uri": "https://localhost:8080/",
          "height": 85
        },
        "outputId": "7dfce1de-bca3-4f76-c7aa-34088a6392bf"
      },
      "source": [
        "i = value_counts.index.str.contains(\"-\")\n",
        "print(value_counts.loc[i])"
      ],
      "execution_count": 8,
      "outputs": [
        {
          "output_type": "stream",
          "text": [
            "AMZN-GPS         1\n",
            "FB-GOOGL-GOOG    1\n",
            "INTC-USB         1\n",
            "Name: symbols, dtype: int64\n"
          ],
          "name": "stdout"
        }
      ]
    },
    {
      "cell_type": "markdown",
      "metadata": {
        "id": "OQMR1Qp8l4Pd",
        "colab_type": "text"
      },
      "source": [
        "**Sample Netflix's tweets**"
      ]
    },
    {
      "cell_type": "code",
      "metadata": {
        "id": "R2XCMxPGl4Pe",
        "colab_type": "code",
        "colab": {
          "base_uri": "https://localhost:8080/",
          "height": 34
        },
        "outputId": "e005dc2e-81b1-44d8-8863-25a103394efe"
      },
      "source": [
        "print(tweets[tweets[\"symbols\"] == \"NFLX\"]['text'].iloc[0])"
      ],
      "execution_count": 9,
      "outputs": [
        {
          "output_type": "stream",
          "text": [
            "Senate wants emergency alerts to go out through Netflix Spotify etc. https://t.co/23yy3whBlc by @grg\n"
          ],
          "name": "stdout"
        }
      ]
    },
    {
      "cell_type": "markdown",
      "metadata": {
        "id": "hRbEHqxJl4Ph",
        "colab_type": "text"
      },
      "source": [
        "**Using regular expressions to identify first 10 NFLX tweets**"
      ]
    },
    {
      "cell_type": "code",
      "metadata": {
        "id": "O-o74P0hl4Pi",
        "colab_type": "code",
        "colab": {
          "base_uri": "https://localhost:8080/",
          "height": 187
        },
        "outputId": "26b8d4ad-5868-41df-fae3-b31d56e19bbb"
      },
      "source": [
        "i = 0\n",
        "for x in tweets[tweets[\"symbols\"] == \"NFLX\"]['text']:\n",
        "    print(re.findall(\"\\$[a-zA-Z]+\", x))\n",
        "    i += 1\n",
        "    if i > 9:\n",
        "        break"
      ],
      "execution_count": 10,
      "outputs": [
        {
          "output_type": "stream",
          "text": [
            "[]\n",
            "['$NFLX']\n",
            "[]\n",
            "['$FANG', '$FB', '$AMZN']\n",
            "['$SPY', '$NFLX', '$UVXY', '$MS', '$CSX', '$ABT', '$UAL']\n",
            "['$HMNY', '$AMD', '$MU']\n",
            "['$NFLX']\n",
            "['$CL']\n",
            "['$FANG', '$FB', '$AMZN']\n",
            "['$TWTR', '$FB', '$AAPL', '$NFLX', '$TSLA', '$AMZN', '$GOOGL']\n"
          ],
          "name": "stdout"
        }
      ]
    },
    {
      "cell_type": "markdown",
      "metadata": {
        "id": "7Pn-S4cVl4Pm",
        "colab_type": "text"
      },
      "source": [
        "**Using regular expression on the dataframe**"
      ]
    },
    {
      "cell_type": "code",
      "metadata": {
        "id": "kbeoAtLUl4Pn",
        "colab_type": "code",
        "colab": {
          "base_uri": "https://localhost:8080/",
          "height": 221
        },
        "outputId": "114f9967-7d84-4814-f942-c598de47aed3"
      },
      "source": [
        "print(tweets[tweets[\"symbols\"] == \"NFLX\"]['text'].apply(lambda x: re.findall(\"\\$[a-zA-Z]+\", x)))"
      ],
      "execution_count": 11,
      "outputs": [
        {
          "output_type": "stream",
          "text": [
            "8                                                       []\n",
            "26391                                              [$NFLX]\n",
            "26398                                                   []\n",
            "26411                                  [$FANG, $FB, $AMZN]\n",
            "26414          [$SPY, $NFLX, $UVXY, $MS, $CSX, $ABT, $UAL]\n",
            "                               ...                        \n",
            "28201                                              [$NFLX]\n",
            "28241                                       [$TSLA, $NFLX]\n",
            "28274                  [$NFLX, $AMZN, $ADDYY, $AAPL, $DIS]\n",
            "28290    [$AMZN, $GOOGL, $NFLX, $BA, $TSLA, $TWTR, $SQ,...\n",
            "28412         [$SQ, $NFLX, $AMZN, $AMD, $TSLA, $AAPL, $GS]\n",
            "Name: text, Length: 101, dtype: object\n"
          ],
          "name": "stdout"
        }
      ]
    },
    {
      "cell_type": "markdown",
      "metadata": {
        "id": "kFplsC8Yl4Pp",
        "colab_type": "text"
      },
      "source": [
        "### Converting dataframe to boolean index"
      ]
    },
    {
      "cell_type": "code",
      "metadata": {
        "scrolled": true,
        "id": "tafIkI69l4Pq",
        "colab_type": "code",
        "colab": {
          "base_uri": "https://localhost:8080/",
          "height": 507
        },
        "outputId": "7469e757-6fbf-4646-ee1a-df79a86fde0d"
      },
      "source": [
        "tweets[tweets[\"symbols\"] == \"NFLX\"]['text'].apply(lambda x: re.findall(\"\\$[a-zA-Z]+\", x)).apply(lambda x: pd.Series(1, index=set(x)))\n",
        "#print(tweets[tweets[\"symbols\"] == \"NFLX\"]['text'].apply(lambda x: re.findall(\"\\$[a-zA-Z]+\", x)).apply(lambda x: pd.Series(1, index=set(x))))"
      ],
      "execution_count": 12,
      "outputs": [
        {
          "output_type": "execute_result",
          "data": {
            "text/html": [
              "<div>\n",
              "<style scoped>\n",
              "    .dataframe tbody tr th:only-of-type {\n",
              "        vertical-align: middle;\n",
              "    }\n",
              "\n",
              "    .dataframe tbody tr th {\n",
              "        vertical-align: top;\n",
              "    }\n",
              "\n",
              "    .dataframe thead th {\n",
              "        text-align: right;\n",
              "    }\n",
              "</style>\n",
              "<table border=\"1\" class=\"dataframe\">\n",
              "  <thead>\n",
              "    <tr style=\"text-align: right;\">\n",
              "      <th></th>\n",
              "      <th>$NFLX</th>\n",
              "      <th>$FANG</th>\n",
              "      <th>$FB</th>\n",
              "      <th>$AMZN</th>\n",
              "      <th>$SPY</th>\n",
              "      <th>$MS</th>\n",
              "      <th>$UVXY</th>\n",
              "      <th>$CSX</th>\n",
              "      <th>$UAL</th>\n",
              "      <th>$ABT</th>\n",
              "      <th>$AMD</th>\n",
              "      <th>$HMNY</th>\n",
              "      <th>$MU</th>\n",
              "      <th>$CL</th>\n",
              "      <th>$TSLA</th>\n",
              "      <th>$AAPL</th>\n",
              "      <th>$GOOGL</th>\n",
              "      <th>$TWTR</th>\n",
              "      <th>$JPM</th>\n",
              "      <th>$MSFT</th>\n",
              "      <th>$JD</th>\n",
              "      <th>$ROKU</th>\n",
              "      <th>$BABA</th>\n",
              "      <th>$C</th>\n",
              "      <th>$NXPI</th>\n",
              "      <th>$BAC</th>\n",
              "      <th>$CRM</th>\n",
              "      <th>$V</th>\n",
              "      <th>$ISRG</th>\n",
              "      <th>$ALGN</th>\n",
              "      <th>$NOW</th>\n",
              "      <th>$ILMN</th>\n",
              "      <th>$ABMD</th>\n",
              "      <th>$MA</th>\n",
              "      <th>$LULU</th>\n",
              "      <th>$ADBE</th>\n",
              "      <th>$PANW</th>\n",
              "      <th>$A</th>\n",
              "      <th>$CPAH</th>\n",
              "      <th>$SIRI</th>\n",
              "      <th>...</th>\n",
              "      <th>$BIDU</th>\n",
              "      <th>$SPX</th>\n",
              "      <th>$DJIA</th>\n",
              "      <th>$QQQ</th>\n",
              "      <th>$NVDA</th>\n",
              "      <th>$IBM</th>\n",
              "      <th>$GS</th>\n",
              "      <th>$ebay</th>\n",
              "      <th>$GE</th>\n",
              "      <th>$F</th>\n",
              "      <th>$SBUX</th>\n",
              "      <th>$GGP</th>\n",
              "      <th>$EBAY</th>\n",
              "      <th>$PG</th>\n",
              "      <th>$AAL</th>\n",
              "      <th>$CMCSA</th>\n",
              "      <th>$WMT</th>\n",
              "      <th>$FOXA</th>\n",
              "      <th>$DAL</th>\n",
              "      <th>$IBB</th>\n",
              "      <th>$AABA</th>\n",
              "      <th>$WFC</th>\n",
              "      <th>$XLY</th>\n",
              "      <th>$XLK</th>\n",
              "      <th>$IQ</th>\n",
              "      <th>$RH</th>\n",
              "      <th>$EROS</th>\n",
              "      <th>$IFN</th>\n",
              "      <th>$EPI</th>\n",
              "      <th>$amzn</th>\n",
              "      <th>$nflx</th>\n",
              "      <th>$goog</th>\n",
              "      <th>$aapl</th>\n",
              "      <th>$nwl</th>\n",
              "      <th>$ibm</th>\n",
              "      <th>$nvda</th>\n",
              "      <th>$ADDYY</th>\n",
              "      <th>$WIX</th>\n",
              "      <th>$BA</th>\n",
              "      <th>$SQ</th>\n",
              "    </tr>\n",
              "  </thead>\n",
              "  <tbody>\n",
              "    <tr>\n",
              "      <th>8</th>\n",
              "      <td>NaN</td>\n",
              "      <td>NaN</td>\n",
              "      <td>NaN</td>\n",
              "      <td>NaN</td>\n",
              "      <td>NaN</td>\n",
              "      <td>NaN</td>\n",
              "      <td>NaN</td>\n",
              "      <td>NaN</td>\n",
              "      <td>NaN</td>\n",
              "      <td>NaN</td>\n",
              "      <td>NaN</td>\n",
              "      <td>NaN</td>\n",
              "      <td>NaN</td>\n",
              "      <td>NaN</td>\n",
              "      <td>NaN</td>\n",
              "      <td>NaN</td>\n",
              "      <td>NaN</td>\n",
              "      <td>NaN</td>\n",
              "      <td>NaN</td>\n",
              "      <td>NaN</td>\n",
              "      <td>NaN</td>\n",
              "      <td>NaN</td>\n",
              "      <td>NaN</td>\n",
              "      <td>NaN</td>\n",
              "      <td>NaN</td>\n",
              "      <td>NaN</td>\n",
              "      <td>NaN</td>\n",
              "      <td>NaN</td>\n",
              "      <td>NaN</td>\n",
              "      <td>NaN</td>\n",
              "      <td>NaN</td>\n",
              "      <td>NaN</td>\n",
              "      <td>NaN</td>\n",
              "      <td>NaN</td>\n",
              "      <td>NaN</td>\n",
              "      <td>NaN</td>\n",
              "      <td>NaN</td>\n",
              "      <td>NaN</td>\n",
              "      <td>NaN</td>\n",
              "      <td>NaN</td>\n",
              "      <td>...</td>\n",
              "      <td>NaN</td>\n",
              "      <td>NaN</td>\n",
              "      <td>NaN</td>\n",
              "      <td>NaN</td>\n",
              "      <td>NaN</td>\n",
              "      <td>NaN</td>\n",
              "      <td>NaN</td>\n",
              "      <td>NaN</td>\n",
              "      <td>NaN</td>\n",
              "      <td>NaN</td>\n",
              "      <td>NaN</td>\n",
              "      <td>NaN</td>\n",
              "      <td>NaN</td>\n",
              "      <td>NaN</td>\n",
              "      <td>NaN</td>\n",
              "      <td>NaN</td>\n",
              "      <td>NaN</td>\n",
              "      <td>NaN</td>\n",
              "      <td>NaN</td>\n",
              "      <td>NaN</td>\n",
              "      <td>NaN</td>\n",
              "      <td>NaN</td>\n",
              "      <td>NaN</td>\n",
              "      <td>NaN</td>\n",
              "      <td>NaN</td>\n",
              "      <td>NaN</td>\n",
              "      <td>NaN</td>\n",
              "      <td>NaN</td>\n",
              "      <td>NaN</td>\n",
              "      <td>NaN</td>\n",
              "      <td>NaN</td>\n",
              "      <td>NaN</td>\n",
              "      <td>NaN</td>\n",
              "      <td>NaN</td>\n",
              "      <td>NaN</td>\n",
              "      <td>NaN</td>\n",
              "      <td>NaN</td>\n",
              "      <td>NaN</td>\n",
              "      <td>NaN</td>\n",
              "      <td>NaN</td>\n",
              "    </tr>\n",
              "    <tr>\n",
              "      <th>26391</th>\n",
              "      <td>1.0</td>\n",
              "      <td>NaN</td>\n",
              "      <td>NaN</td>\n",
              "      <td>NaN</td>\n",
              "      <td>NaN</td>\n",
              "      <td>NaN</td>\n",
              "      <td>NaN</td>\n",
              "      <td>NaN</td>\n",
              "      <td>NaN</td>\n",
              "      <td>NaN</td>\n",
              "      <td>NaN</td>\n",
              "      <td>NaN</td>\n",
              "      <td>NaN</td>\n",
              "      <td>NaN</td>\n",
              "      <td>NaN</td>\n",
              "      <td>NaN</td>\n",
              "      <td>NaN</td>\n",
              "      <td>NaN</td>\n",
              "      <td>NaN</td>\n",
              "      <td>NaN</td>\n",
              "      <td>NaN</td>\n",
              "      <td>NaN</td>\n",
              "      <td>NaN</td>\n",
              "      <td>NaN</td>\n",
              "      <td>NaN</td>\n",
              "      <td>NaN</td>\n",
              "      <td>NaN</td>\n",
              "      <td>NaN</td>\n",
              "      <td>NaN</td>\n",
              "      <td>NaN</td>\n",
              "      <td>NaN</td>\n",
              "      <td>NaN</td>\n",
              "      <td>NaN</td>\n",
              "      <td>NaN</td>\n",
              "      <td>NaN</td>\n",
              "      <td>NaN</td>\n",
              "      <td>NaN</td>\n",
              "      <td>NaN</td>\n",
              "      <td>NaN</td>\n",
              "      <td>NaN</td>\n",
              "      <td>...</td>\n",
              "      <td>NaN</td>\n",
              "      <td>NaN</td>\n",
              "      <td>NaN</td>\n",
              "      <td>NaN</td>\n",
              "      <td>NaN</td>\n",
              "      <td>NaN</td>\n",
              "      <td>NaN</td>\n",
              "      <td>NaN</td>\n",
              "      <td>NaN</td>\n",
              "      <td>NaN</td>\n",
              "      <td>NaN</td>\n",
              "      <td>NaN</td>\n",
              "      <td>NaN</td>\n",
              "      <td>NaN</td>\n",
              "      <td>NaN</td>\n",
              "      <td>NaN</td>\n",
              "      <td>NaN</td>\n",
              "      <td>NaN</td>\n",
              "      <td>NaN</td>\n",
              "      <td>NaN</td>\n",
              "      <td>NaN</td>\n",
              "      <td>NaN</td>\n",
              "      <td>NaN</td>\n",
              "      <td>NaN</td>\n",
              "      <td>NaN</td>\n",
              "      <td>NaN</td>\n",
              "      <td>NaN</td>\n",
              "      <td>NaN</td>\n",
              "      <td>NaN</td>\n",
              "      <td>NaN</td>\n",
              "      <td>NaN</td>\n",
              "      <td>NaN</td>\n",
              "      <td>NaN</td>\n",
              "      <td>NaN</td>\n",
              "      <td>NaN</td>\n",
              "      <td>NaN</td>\n",
              "      <td>NaN</td>\n",
              "      <td>NaN</td>\n",
              "      <td>NaN</td>\n",
              "      <td>NaN</td>\n",
              "    </tr>\n",
              "    <tr>\n",
              "      <th>26398</th>\n",
              "      <td>NaN</td>\n",
              "      <td>NaN</td>\n",
              "      <td>NaN</td>\n",
              "      <td>NaN</td>\n",
              "      <td>NaN</td>\n",
              "      <td>NaN</td>\n",
              "      <td>NaN</td>\n",
              "      <td>NaN</td>\n",
              "      <td>NaN</td>\n",
              "      <td>NaN</td>\n",
              "      <td>NaN</td>\n",
              "      <td>NaN</td>\n",
              "      <td>NaN</td>\n",
              "      <td>NaN</td>\n",
              "      <td>NaN</td>\n",
              "      <td>NaN</td>\n",
              "      <td>NaN</td>\n",
              "      <td>NaN</td>\n",
              "      <td>NaN</td>\n",
              "      <td>NaN</td>\n",
              "      <td>NaN</td>\n",
              "      <td>NaN</td>\n",
              "      <td>NaN</td>\n",
              "      <td>NaN</td>\n",
              "      <td>NaN</td>\n",
              "      <td>NaN</td>\n",
              "      <td>NaN</td>\n",
              "      <td>NaN</td>\n",
              "      <td>NaN</td>\n",
              "      <td>NaN</td>\n",
              "      <td>NaN</td>\n",
              "      <td>NaN</td>\n",
              "      <td>NaN</td>\n",
              "      <td>NaN</td>\n",
              "      <td>NaN</td>\n",
              "      <td>NaN</td>\n",
              "      <td>NaN</td>\n",
              "      <td>NaN</td>\n",
              "      <td>NaN</td>\n",
              "      <td>NaN</td>\n",
              "      <td>...</td>\n",
              "      <td>NaN</td>\n",
              "      <td>NaN</td>\n",
              "      <td>NaN</td>\n",
              "      <td>NaN</td>\n",
              "      <td>NaN</td>\n",
              "      <td>NaN</td>\n",
              "      <td>NaN</td>\n",
              "      <td>NaN</td>\n",
              "      <td>NaN</td>\n",
              "      <td>NaN</td>\n",
              "      <td>NaN</td>\n",
              "      <td>NaN</td>\n",
              "      <td>NaN</td>\n",
              "      <td>NaN</td>\n",
              "      <td>NaN</td>\n",
              "      <td>NaN</td>\n",
              "      <td>NaN</td>\n",
              "      <td>NaN</td>\n",
              "      <td>NaN</td>\n",
              "      <td>NaN</td>\n",
              "      <td>NaN</td>\n",
              "      <td>NaN</td>\n",
              "      <td>NaN</td>\n",
              "      <td>NaN</td>\n",
              "      <td>NaN</td>\n",
              "      <td>NaN</td>\n",
              "      <td>NaN</td>\n",
              "      <td>NaN</td>\n",
              "      <td>NaN</td>\n",
              "      <td>NaN</td>\n",
              "      <td>NaN</td>\n",
              "      <td>NaN</td>\n",
              "      <td>NaN</td>\n",
              "      <td>NaN</td>\n",
              "      <td>NaN</td>\n",
              "      <td>NaN</td>\n",
              "      <td>NaN</td>\n",
              "      <td>NaN</td>\n",
              "      <td>NaN</td>\n",
              "      <td>NaN</td>\n",
              "    </tr>\n",
              "    <tr>\n",
              "      <th>26411</th>\n",
              "      <td>NaN</td>\n",
              "      <td>1.0</td>\n",
              "      <td>1.0</td>\n",
              "      <td>1.0</td>\n",
              "      <td>NaN</td>\n",
              "      <td>NaN</td>\n",
              "      <td>NaN</td>\n",
              "      <td>NaN</td>\n",
              "      <td>NaN</td>\n",
              "      <td>NaN</td>\n",
              "      <td>NaN</td>\n",
              "      <td>NaN</td>\n",
              "      <td>NaN</td>\n",
              "      <td>NaN</td>\n",
              "      <td>NaN</td>\n",
              "      <td>NaN</td>\n",
              "      <td>NaN</td>\n",
              "      <td>NaN</td>\n",
              "      <td>NaN</td>\n",
              "      <td>NaN</td>\n",
              "      <td>NaN</td>\n",
              "      <td>NaN</td>\n",
              "      <td>NaN</td>\n",
              "      <td>NaN</td>\n",
              "      <td>NaN</td>\n",
              "      <td>NaN</td>\n",
              "      <td>NaN</td>\n",
              "      <td>NaN</td>\n",
              "      <td>NaN</td>\n",
              "      <td>NaN</td>\n",
              "      <td>NaN</td>\n",
              "      <td>NaN</td>\n",
              "      <td>NaN</td>\n",
              "      <td>NaN</td>\n",
              "      <td>NaN</td>\n",
              "      <td>NaN</td>\n",
              "      <td>NaN</td>\n",
              "      <td>NaN</td>\n",
              "      <td>NaN</td>\n",
              "      <td>NaN</td>\n",
              "      <td>...</td>\n",
              "      <td>NaN</td>\n",
              "      <td>NaN</td>\n",
              "      <td>NaN</td>\n",
              "      <td>NaN</td>\n",
              "      <td>NaN</td>\n",
              "      <td>NaN</td>\n",
              "      <td>NaN</td>\n",
              "      <td>NaN</td>\n",
              "      <td>NaN</td>\n",
              "      <td>NaN</td>\n",
              "      <td>NaN</td>\n",
              "      <td>NaN</td>\n",
              "      <td>NaN</td>\n",
              "      <td>NaN</td>\n",
              "      <td>NaN</td>\n",
              "      <td>NaN</td>\n",
              "      <td>NaN</td>\n",
              "      <td>NaN</td>\n",
              "      <td>NaN</td>\n",
              "      <td>NaN</td>\n",
              "      <td>NaN</td>\n",
              "      <td>NaN</td>\n",
              "      <td>NaN</td>\n",
              "      <td>NaN</td>\n",
              "      <td>NaN</td>\n",
              "      <td>NaN</td>\n",
              "      <td>NaN</td>\n",
              "      <td>NaN</td>\n",
              "      <td>NaN</td>\n",
              "      <td>NaN</td>\n",
              "      <td>NaN</td>\n",
              "      <td>NaN</td>\n",
              "      <td>NaN</td>\n",
              "      <td>NaN</td>\n",
              "      <td>NaN</td>\n",
              "      <td>NaN</td>\n",
              "      <td>NaN</td>\n",
              "      <td>NaN</td>\n",
              "      <td>NaN</td>\n",
              "      <td>NaN</td>\n",
              "    </tr>\n",
              "    <tr>\n",
              "      <th>26414</th>\n",
              "      <td>1.0</td>\n",
              "      <td>NaN</td>\n",
              "      <td>NaN</td>\n",
              "      <td>NaN</td>\n",
              "      <td>1.0</td>\n",
              "      <td>1.0</td>\n",
              "      <td>1.0</td>\n",
              "      <td>1.0</td>\n",
              "      <td>1.0</td>\n",
              "      <td>1.0</td>\n",
              "      <td>NaN</td>\n",
              "      <td>NaN</td>\n",
              "      <td>NaN</td>\n",
              "      <td>NaN</td>\n",
              "      <td>NaN</td>\n",
              "      <td>NaN</td>\n",
              "      <td>NaN</td>\n",
              "      <td>NaN</td>\n",
              "      <td>NaN</td>\n",
              "      <td>NaN</td>\n",
              "      <td>NaN</td>\n",
              "      <td>NaN</td>\n",
              "      <td>NaN</td>\n",
              "      <td>NaN</td>\n",
              "      <td>NaN</td>\n",
              "      <td>NaN</td>\n",
              "      <td>NaN</td>\n",
              "      <td>NaN</td>\n",
              "      <td>NaN</td>\n",
              "      <td>NaN</td>\n",
              "      <td>NaN</td>\n",
              "      <td>NaN</td>\n",
              "      <td>NaN</td>\n",
              "      <td>NaN</td>\n",
              "      <td>NaN</td>\n",
              "      <td>NaN</td>\n",
              "      <td>NaN</td>\n",
              "      <td>NaN</td>\n",
              "      <td>NaN</td>\n",
              "      <td>NaN</td>\n",
              "      <td>...</td>\n",
              "      <td>NaN</td>\n",
              "      <td>NaN</td>\n",
              "      <td>NaN</td>\n",
              "      <td>NaN</td>\n",
              "      <td>NaN</td>\n",
              "      <td>NaN</td>\n",
              "      <td>NaN</td>\n",
              "      <td>NaN</td>\n",
              "      <td>NaN</td>\n",
              "      <td>NaN</td>\n",
              "      <td>NaN</td>\n",
              "      <td>NaN</td>\n",
              "      <td>NaN</td>\n",
              "      <td>NaN</td>\n",
              "      <td>NaN</td>\n",
              "      <td>NaN</td>\n",
              "      <td>NaN</td>\n",
              "      <td>NaN</td>\n",
              "      <td>NaN</td>\n",
              "      <td>NaN</td>\n",
              "      <td>NaN</td>\n",
              "      <td>NaN</td>\n",
              "      <td>NaN</td>\n",
              "      <td>NaN</td>\n",
              "      <td>NaN</td>\n",
              "      <td>NaN</td>\n",
              "      <td>NaN</td>\n",
              "      <td>NaN</td>\n",
              "      <td>NaN</td>\n",
              "      <td>NaN</td>\n",
              "      <td>NaN</td>\n",
              "      <td>NaN</td>\n",
              "      <td>NaN</td>\n",
              "      <td>NaN</td>\n",
              "      <td>NaN</td>\n",
              "      <td>NaN</td>\n",
              "      <td>NaN</td>\n",
              "      <td>NaN</td>\n",
              "      <td>NaN</td>\n",
              "      <td>NaN</td>\n",
              "    </tr>\n",
              "    <tr>\n",
              "      <th>...</th>\n",
              "      <td>...</td>\n",
              "      <td>...</td>\n",
              "      <td>...</td>\n",
              "      <td>...</td>\n",
              "      <td>...</td>\n",
              "      <td>...</td>\n",
              "      <td>...</td>\n",
              "      <td>...</td>\n",
              "      <td>...</td>\n",
              "      <td>...</td>\n",
              "      <td>...</td>\n",
              "      <td>...</td>\n",
              "      <td>...</td>\n",
              "      <td>...</td>\n",
              "      <td>...</td>\n",
              "      <td>...</td>\n",
              "      <td>...</td>\n",
              "      <td>...</td>\n",
              "      <td>...</td>\n",
              "      <td>...</td>\n",
              "      <td>...</td>\n",
              "      <td>...</td>\n",
              "      <td>...</td>\n",
              "      <td>...</td>\n",
              "      <td>...</td>\n",
              "      <td>...</td>\n",
              "      <td>...</td>\n",
              "      <td>...</td>\n",
              "      <td>...</td>\n",
              "      <td>...</td>\n",
              "      <td>...</td>\n",
              "      <td>...</td>\n",
              "      <td>...</td>\n",
              "      <td>...</td>\n",
              "      <td>...</td>\n",
              "      <td>...</td>\n",
              "      <td>...</td>\n",
              "      <td>...</td>\n",
              "      <td>...</td>\n",
              "      <td>...</td>\n",
              "      <td>...</td>\n",
              "      <td>...</td>\n",
              "      <td>...</td>\n",
              "      <td>...</td>\n",
              "      <td>...</td>\n",
              "      <td>...</td>\n",
              "      <td>...</td>\n",
              "      <td>...</td>\n",
              "      <td>...</td>\n",
              "      <td>...</td>\n",
              "      <td>...</td>\n",
              "      <td>...</td>\n",
              "      <td>...</td>\n",
              "      <td>...</td>\n",
              "      <td>...</td>\n",
              "      <td>...</td>\n",
              "      <td>...</td>\n",
              "      <td>...</td>\n",
              "      <td>...</td>\n",
              "      <td>...</td>\n",
              "      <td>...</td>\n",
              "      <td>...</td>\n",
              "      <td>...</td>\n",
              "      <td>...</td>\n",
              "      <td>...</td>\n",
              "      <td>...</td>\n",
              "      <td>...</td>\n",
              "      <td>...</td>\n",
              "      <td>...</td>\n",
              "      <td>...</td>\n",
              "      <td>...</td>\n",
              "      <td>...</td>\n",
              "      <td>...</td>\n",
              "      <td>...</td>\n",
              "      <td>...</td>\n",
              "      <td>...</td>\n",
              "      <td>...</td>\n",
              "      <td>...</td>\n",
              "      <td>...</td>\n",
              "      <td>...</td>\n",
              "      <td>...</td>\n",
              "    </tr>\n",
              "    <tr>\n",
              "      <th>28201</th>\n",
              "      <td>1.0</td>\n",
              "      <td>NaN</td>\n",
              "      <td>NaN</td>\n",
              "      <td>NaN</td>\n",
              "      <td>NaN</td>\n",
              "      <td>NaN</td>\n",
              "      <td>NaN</td>\n",
              "      <td>NaN</td>\n",
              "      <td>NaN</td>\n",
              "      <td>NaN</td>\n",
              "      <td>NaN</td>\n",
              "      <td>NaN</td>\n",
              "      <td>NaN</td>\n",
              "      <td>NaN</td>\n",
              "      <td>NaN</td>\n",
              "      <td>NaN</td>\n",
              "      <td>NaN</td>\n",
              "      <td>NaN</td>\n",
              "      <td>NaN</td>\n",
              "      <td>NaN</td>\n",
              "      <td>NaN</td>\n",
              "      <td>NaN</td>\n",
              "      <td>NaN</td>\n",
              "      <td>NaN</td>\n",
              "      <td>NaN</td>\n",
              "      <td>NaN</td>\n",
              "      <td>NaN</td>\n",
              "      <td>NaN</td>\n",
              "      <td>NaN</td>\n",
              "      <td>NaN</td>\n",
              "      <td>NaN</td>\n",
              "      <td>NaN</td>\n",
              "      <td>NaN</td>\n",
              "      <td>NaN</td>\n",
              "      <td>NaN</td>\n",
              "      <td>NaN</td>\n",
              "      <td>NaN</td>\n",
              "      <td>NaN</td>\n",
              "      <td>NaN</td>\n",
              "      <td>NaN</td>\n",
              "      <td>...</td>\n",
              "      <td>NaN</td>\n",
              "      <td>NaN</td>\n",
              "      <td>NaN</td>\n",
              "      <td>NaN</td>\n",
              "      <td>NaN</td>\n",
              "      <td>NaN</td>\n",
              "      <td>NaN</td>\n",
              "      <td>NaN</td>\n",
              "      <td>NaN</td>\n",
              "      <td>NaN</td>\n",
              "      <td>NaN</td>\n",
              "      <td>NaN</td>\n",
              "      <td>NaN</td>\n",
              "      <td>NaN</td>\n",
              "      <td>NaN</td>\n",
              "      <td>NaN</td>\n",
              "      <td>NaN</td>\n",
              "      <td>NaN</td>\n",
              "      <td>NaN</td>\n",
              "      <td>NaN</td>\n",
              "      <td>NaN</td>\n",
              "      <td>NaN</td>\n",
              "      <td>NaN</td>\n",
              "      <td>NaN</td>\n",
              "      <td>NaN</td>\n",
              "      <td>NaN</td>\n",
              "      <td>NaN</td>\n",
              "      <td>NaN</td>\n",
              "      <td>NaN</td>\n",
              "      <td>NaN</td>\n",
              "      <td>NaN</td>\n",
              "      <td>NaN</td>\n",
              "      <td>NaN</td>\n",
              "      <td>NaN</td>\n",
              "      <td>NaN</td>\n",
              "      <td>NaN</td>\n",
              "      <td>NaN</td>\n",
              "      <td>NaN</td>\n",
              "      <td>NaN</td>\n",
              "      <td>NaN</td>\n",
              "    </tr>\n",
              "    <tr>\n",
              "      <th>28241</th>\n",
              "      <td>1.0</td>\n",
              "      <td>NaN</td>\n",
              "      <td>NaN</td>\n",
              "      <td>NaN</td>\n",
              "      <td>NaN</td>\n",
              "      <td>NaN</td>\n",
              "      <td>NaN</td>\n",
              "      <td>NaN</td>\n",
              "      <td>NaN</td>\n",
              "      <td>NaN</td>\n",
              "      <td>NaN</td>\n",
              "      <td>NaN</td>\n",
              "      <td>NaN</td>\n",
              "      <td>NaN</td>\n",
              "      <td>1.0</td>\n",
              "      <td>NaN</td>\n",
              "      <td>NaN</td>\n",
              "      <td>NaN</td>\n",
              "      <td>NaN</td>\n",
              "      <td>NaN</td>\n",
              "      <td>NaN</td>\n",
              "      <td>NaN</td>\n",
              "      <td>NaN</td>\n",
              "      <td>NaN</td>\n",
              "      <td>NaN</td>\n",
              "      <td>NaN</td>\n",
              "      <td>NaN</td>\n",
              "      <td>NaN</td>\n",
              "      <td>NaN</td>\n",
              "      <td>NaN</td>\n",
              "      <td>NaN</td>\n",
              "      <td>NaN</td>\n",
              "      <td>NaN</td>\n",
              "      <td>NaN</td>\n",
              "      <td>NaN</td>\n",
              "      <td>NaN</td>\n",
              "      <td>NaN</td>\n",
              "      <td>NaN</td>\n",
              "      <td>NaN</td>\n",
              "      <td>NaN</td>\n",
              "      <td>...</td>\n",
              "      <td>NaN</td>\n",
              "      <td>NaN</td>\n",
              "      <td>NaN</td>\n",
              "      <td>NaN</td>\n",
              "      <td>NaN</td>\n",
              "      <td>NaN</td>\n",
              "      <td>NaN</td>\n",
              "      <td>NaN</td>\n",
              "      <td>NaN</td>\n",
              "      <td>NaN</td>\n",
              "      <td>NaN</td>\n",
              "      <td>NaN</td>\n",
              "      <td>NaN</td>\n",
              "      <td>NaN</td>\n",
              "      <td>NaN</td>\n",
              "      <td>NaN</td>\n",
              "      <td>NaN</td>\n",
              "      <td>NaN</td>\n",
              "      <td>NaN</td>\n",
              "      <td>NaN</td>\n",
              "      <td>NaN</td>\n",
              "      <td>NaN</td>\n",
              "      <td>NaN</td>\n",
              "      <td>NaN</td>\n",
              "      <td>NaN</td>\n",
              "      <td>NaN</td>\n",
              "      <td>NaN</td>\n",
              "      <td>NaN</td>\n",
              "      <td>NaN</td>\n",
              "      <td>NaN</td>\n",
              "      <td>NaN</td>\n",
              "      <td>NaN</td>\n",
              "      <td>NaN</td>\n",
              "      <td>NaN</td>\n",
              "      <td>NaN</td>\n",
              "      <td>NaN</td>\n",
              "      <td>NaN</td>\n",
              "      <td>NaN</td>\n",
              "      <td>NaN</td>\n",
              "      <td>NaN</td>\n",
              "    </tr>\n",
              "    <tr>\n",
              "      <th>28274</th>\n",
              "      <td>1.0</td>\n",
              "      <td>NaN</td>\n",
              "      <td>NaN</td>\n",
              "      <td>1.0</td>\n",
              "      <td>NaN</td>\n",
              "      <td>NaN</td>\n",
              "      <td>NaN</td>\n",
              "      <td>NaN</td>\n",
              "      <td>NaN</td>\n",
              "      <td>NaN</td>\n",
              "      <td>NaN</td>\n",
              "      <td>NaN</td>\n",
              "      <td>NaN</td>\n",
              "      <td>NaN</td>\n",
              "      <td>NaN</td>\n",
              "      <td>1.0</td>\n",
              "      <td>NaN</td>\n",
              "      <td>NaN</td>\n",
              "      <td>NaN</td>\n",
              "      <td>NaN</td>\n",
              "      <td>NaN</td>\n",
              "      <td>NaN</td>\n",
              "      <td>NaN</td>\n",
              "      <td>NaN</td>\n",
              "      <td>NaN</td>\n",
              "      <td>NaN</td>\n",
              "      <td>NaN</td>\n",
              "      <td>NaN</td>\n",
              "      <td>NaN</td>\n",
              "      <td>NaN</td>\n",
              "      <td>NaN</td>\n",
              "      <td>NaN</td>\n",
              "      <td>NaN</td>\n",
              "      <td>NaN</td>\n",
              "      <td>NaN</td>\n",
              "      <td>NaN</td>\n",
              "      <td>NaN</td>\n",
              "      <td>NaN</td>\n",
              "      <td>NaN</td>\n",
              "      <td>NaN</td>\n",
              "      <td>...</td>\n",
              "      <td>NaN</td>\n",
              "      <td>NaN</td>\n",
              "      <td>NaN</td>\n",
              "      <td>NaN</td>\n",
              "      <td>NaN</td>\n",
              "      <td>NaN</td>\n",
              "      <td>NaN</td>\n",
              "      <td>NaN</td>\n",
              "      <td>NaN</td>\n",
              "      <td>NaN</td>\n",
              "      <td>NaN</td>\n",
              "      <td>NaN</td>\n",
              "      <td>NaN</td>\n",
              "      <td>NaN</td>\n",
              "      <td>NaN</td>\n",
              "      <td>NaN</td>\n",
              "      <td>NaN</td>\n",
              "      <td>NaN</td>\n",
              "      <td>NaN</td>\n",
              "      <td>NaN</td>\n",
              "      <td>NaN</td>\n",
              "      <td>NaN</td>\n",
              "      <td>NaN</td>\n",
              "      <td>NaN</td>\n",
              "      <td>NaN</td>\n",
              "      <td>NaN</td>\n",
              "      <td>NaN</td>\n",
              "      <td>NaN</td>\n",
              "      <td>NaN</td>\n",
              "      <td>NaN</td>\n",
              "      <td>NaN</td>\n",
              "      <td>NaN</td>\n",
              "      <td>NaN</td>\n",
              "      <td>NaN</td>\n",
              "      <td>NaN</td>\n",
              "      <td>NaN</td>\n",
              "      <td>1.0</td>\n",
              "      <td>NaN</td>\n",
              "      <td>NaN</td>\n",
              "      <td>NaN</td>\n",
              "    </tr>\n",
              "    <tr>\n",
              "      <th>28290</th>\n",
              "      <td>1.0</td>\n",
              "      <td>NaN</td>\n",
              "      <td>NaN</td>\n",
              "      <td>1.0</td>\n",
              "      <td>NaN</td>\n",
              "      <td>NaN</td>\n",
              "      <td>NaN</td>\n",
              "      <td>NaN</td>\n",
              "      <td>NaN</td>\n",
              "      <td>NaN</td>\n",
              "      <td>NaN</td>\n",
              "      <td>NaN</td>\n",
              "      <td>NaN</td>\n",
              "      <td>NaN</td>\n",
              "      <td>1.0</td>\n",
              "      <td>NaN</td>\n",
              "      <td>1.0</td>\n",
              "      <td>1.0</td>\n",
              "      <td>NaN</td>\n",
              "      <td>NaN</td>\n",
              "      <td>NaN</td>\n",
              "      <td>1.0</td>\n",
              "      <td>NaN</td>\n",
              "      <td>NaN</td>\n",
              "      <td>NaN</td>\n",
              "      <td>NaN</td>\n",
              "      <td>NaN</td>\n",
              "      <td>NaN</td>\n",
              "      <td>NaN</td>\n",
              "      <td>NaN</td>\n",
              "      <td>NaN</td>\n",
              "      <td>NaN</td>\n",
              "      <td>NaN</td>\n",
              "      <td>NaN</td>\n",
              "      <td>NaN</td>\n",
              "      <td>NaN</td>\n",
              "      <td>NaN</td>\n",
              "      <td>NaN</td>\n",
              "      <td>NaN</td>\n",
              "      <td>NaN</td>\n",
              "      <td>...</td>\n",
              "      <td>NaN</td>\n",
              "      <td>NaN</td>\n",
              "      <td>NaN</td>\n",
              "      <td>NaN</td>\n",
              "      <td>NaN</td>\n",
              "      <td>NaN</td>\n",
              "      <td>NaN</td>\n",
              "      <td>NaN</td>\n",
              "      <td>NaN</td>\n",
              "      <td>NaN</td>\n",
              "      <td>NaN</td>\n",
              "      <td>NaN</td>\n",
              "      <td>NaN</td>\n",
              "      <td>NaN</td>\n",
              "      <td>NaN</td>\n",
              "      <td>NaN</td>\n",
              "      <td>NaN</td>\n",
              "      <td>NaN</td>\n",
              "      <td>NaN</td>\n",
              "      <td>NaN</td>\n",
              "      <td>NaN</td>\n",
              "      <td>NaN</td>\n",
              "      <td>NaN</td>\n",
              "      <td>NaN</td>\n",
              "      <td>NaN</td>\n",
              "      <td>NaN</td>\n",
              "      <td>NaN</td>\n",
              "      <td>NaN</td>\n",
              "      <td>NaN</td>\n",
              "      <td>NaN</td>\n",
              "      <td>NaN</td>\n",
              "      <td>NaN</td>\n",
              "      <td>NaN</td>\n",
              "      <td>NaN</td>\n",
              "      <td>NaN</td>\n",
              "      <td>NaN</td>\n",
              "      <td>NaN</td>\n",
              "      <td>NaN</td>\n",
              "      <td>1.0</td>\n",
              "      <td>1.0</td>\n",
              "    </tr>\n",
              "    <tr>\n",
              "      <th>28412</th>\n",
              "      <td>1.0</td>\n",
              "      <td>NaN</td>\n",
              "      <td>NaN</td>\n",
              "      <td>1.0</td>\n",
              "      <td>NaN</td>\n",
              "      <td>NaN</td>\n",
              "      <td>NaN</td>\n",
              "      <td>NaN</td>\n",
              "      <td>NaN</td>\n",
              "      <td>NaN</td>\n",
              "      <td>1.0</td>\n",
              "      <td>NaN</td>\n",
              "      <td>NaN</td>\n",
              "      <td>NaN</td>\n",
              "      <td>1.0</td>\n",
              "      <td>1.0</td>\n",
              "      <td>NaN</td>\n",
              "      <td>NaN</td>\n",
              "      <td>NaN</td>\n",
              "      <td>NaN</td>\n",
              "      <td>NaN</td>\n",
              "      <td>NaN</td>\n",
              "      <td>NaN</td>\n",
              "      <td>NaN</td>\n",
              "      <td>NaN</td>\n",
              "      <td>NaN</td>\n",
              "      <td>NaN</td>\n",
              "      <td>NaN</td>\n",
              "      <td>NaN</td>\n",
              "      <td>NaN</td>\n",
              "      <td>NaN</td>\n",
              "      <td>NaN</td>\n",
              "      <td>NaN</td>\n",
              "      <td>NaN</td>\n",
              "      <td>NaN</td>\n",
              "      <td>NaN</td>\n",
              "      <td>NaN</td>\n",
              "      <td>NaN</td>\n",
              "      <td>NaN</td>\n",
              "      <td>NaN</td>\n",
              "      <td>...</td>\n",
              "      <td>NaN</td>\n",
              "      <td>NaN</td>\n",
              "      <td>NaN</td>\n",
              "      <td>NaN</td>\n",
              "      <td>NaN</td>\n",
              "      <td>NaN</td>\n",
              "      <td>1.0</td>\n",
              "      <td>NaN</td>\n",
              "      <td>NaN</td>\n",
              "      <td>NaN</td>\n",
              "      <td>NaN</td>\n",
              "      <td>NaN</td>\n",
              "      <td>NaN</td>\n",
              "      <td>NaN</td>\n",
              "      <td>NaN</td>\n",
              "      <td>NaN</td>\n",
              "      <td>NaN</td>\n",
              "      <td>NaN</td>\n",
              "      <td>NaN</td>\n",
              "      <td>NaN</td>\n",
              "      <td>NaN</td>\n",
              "      <td>NaN</td>\n",
              "      <td>NaN</td>\n",
              "      <td>NaN</td>\n",
              "      <td>NaN</td>\n",
              "      <td>NaN</td>\n",
              "      <td>NaN</td>\n",
              "      <td>NaN</td>\n",
              "      <td>NaN</td>\n",
              "      <td>NaN</td>\n",
              "      <td>NaN</td>\n",
              "      <td>NaN</td>\n",
              "      <td>NaN</td>\n",
              "      <td>NaN</td>\n",
              "      <td>NaN</td>\n",
              "      <td>NaN</td>\n",
              "      <td>NaN</td>\n",
              "      <td>NaN</td>\n",
              "      <td>NaN</td>\n",
              "      <td>1.0</td>\n",
              "    </tr>\n",
              "  </tbody>\n",
              "</table>\n",
              "<p>101 rows × 83 columns</p>\n",
              "</div>"
            ],
            "text/plain": [
              "       $NFLX  $FANG  $FB  $AMZN  $SPY  $MS  ...  $ibm  $nvda  $ADDYY  $WIX  $BA  $SQ\n",
              "8        NaN    NaN  NaN    NaN   NaN  NaN  ...   NaN    NaN     NaN   NaN  NaN  NaN\n",
              "26391    1.0    NaN  NaN    NaN   NaN  NaN  ...   NaN    NaN     NaN   NaN  NaN  NaN\n",
              "26398    NaN    NaN  NaN    NaN   NaN  NaN  ...   NaN    NaN     NaN   NaN  NaN  NaN\n",
              "26411    NaN    1.0  1.0    1.0   NaN  NaN  ...   NaN    NaN     NaN   NaN  NaN  NaN\n",
              "26414    1.0    NaN  NaN    NaN   1.0  1.0  ...   NaN    NaN     NaN   NaN  NaN  NaN\n",
              "...      ...    ...  ...    ...   ...  ...  ...   ...    ...     ...   ...  ...  ...\n",
              "28201    1.0    NaN  NaN    NaN   NaN  NaN  ...   NaN    NaN     NaN   NaN  NaN  NaN\n",
              "28241    1.0    NaN  NaN    NaN   NaN  NaN  ...   NaN    NaN     NaN   NaN  NaN  NaN\n",
              "28274    1.0    NaN  NaN    1.0   NaN  NaN  ...   NaN    NaN     1.0   NaN  NaN  NaN\n",
              "28290    1.0    NaN  NaN    1.0   NaN  NaN  ...   NaN    NaN     NaN   NaN  1.0  1.0\n",
              "28412    1.0    NaN  NaN    1.0   NaN  NaN  ...   NaN    NaN     NaN   NaN  NaN  1.0\n",
              "\n",
              "[101 rows x 83 columns]"
            ]
          },
          "metadata": {
            "tags": []
          },
          "execution_count": 12
        }
      ]
    },
    {
      "cell_type": "markdown",
      "metadata": {
        "id": "7QGpVC93l4Ps",
        "colab_type": "text"
      },
      "source": [
        "**Replacing null values with 0**"
      ]
    },
    {
      "cell_type": "code",
      "metadata": {
        "id": "SnIQuKkcl4Pt",
        "colab_type": "code",
        "colab": {}
      },
      "source": [
        "test = tweets[tweets[\"symbols\"] == \"NFLX\"]['text'].apply(lambda x: re.findall(\"\\$[a-zA-Z]+\", x)).apply(lambda x: pd.Series(1, index=set(x))).fillna(0)\n",
        "#print(test)"
      ],
      "execution_count": 0,
      "outputs": []
    },
    {
      "cell_type": "markdown",
      "metadata": {
        "id": "MdmIGD8wl4Pv",
        "colab_type": "text"
      },
      "source": [
        "**Normalizing tickers to be uppercase**"
      ]
    },
    {
      "cell_type": "code",
      "metadata": {
        "id": "PMGxjyDxl4Pw",
        "colab_type": "code",
        "colab": {}
      },
      "source": [
        "test = tweets[tweets[\"symbols\"] == \"NFLX\"]['text'].apply(lambda x: re.findall(\"\\$[a-zA-Z]+\", x)).apply(lambda x: pd.Series(1, index=set(map(str.upper, x)))).fillna(0)\n",
        "#print(test)"
      ],
      "execution_count": 0,
      "outputs": []
    },
    {
      "cell_type": "markdown",
      "metadata": {
        "id": "zjLdwA45l4Py",
        "colab_type": "text"
      },
      "source": [
        "# 2. Network Effects\n",
        "\n",
        "### Outward connections from each ticker"
      ]
    },
    {
      "cell_type": "code",
      "metadata": {
        "id": "nmqkXsVWl4Py",
        "colab_type": "code",
        "colab": {}
      },
      "source": [
        "def find_outward_connections(tweets):\n",
        "    return tweets['text'].apply(lambda x: re.findall(\"\\$[a-zA-Z]+\", x)).apply(lambda x: pd.Series(1, index=set(map(str.upper, x)))).fillna(0).sum()"
      ],
      "execution_count": 0,
      "outputs": []
    },
    {
      "cell_type": "markdown",
      "metadata": {
        "id": "rMmWQO_yl4P1",
        "colab_type": "text"
      },
      "source": [
        "**Sample outward connections - from Netflix**"
      ]
    },
    {
      "cell_type": "code",
      "metadata": {
        "id": "zQrqRIG_l4P2",
        "colab_type": "code",
        "colab": {
          "base_uri": "https://localhost:8080/",
          "height": 221
        },
        "outputId": "8005c2e6-fb08-480c-bc06-9ef6aa703f2a"
      },
      "source": [
        "print(find_outward_connections(tweets[tweets[\"symbols\"] == \"NFLX\"]))"
      ],
      "execution_count": 16,
      "outputs": [
        {
          "output_type": "stream",
          "text": [
            "$NFLX     69.0\n",
            "$FANG      9.0\n",
            "$FB       25.0\n",
            "$AMZN     33.0\n",
            "$SPY       3.0\n",
            "          ... \n",
            "$NWL       1.0\n",
            "$ADDYY     2.0\n",
            "$WIX       1.0\n",
            "$BA        1.0\n",
            "$SQ        2.0\n",
            "Length: 77, dtype: float64\n"
          ],
          "name": "stdout"
        }
      ]
    },
    {
      "cell_type": "markdown",
      "metadata": {
        "id": "AzlsuvuLl4P4",
        "colab_type": "text"
      },
      "source": [
        "**Outward connections for all tickers**"
      ]
    },
    {
      "cell_type": "code",
      "metadata": {
        "id": "M8U3MXHtl4P4",
        "colab_type": "code",
        "colab": {}
      },
      "source": [
        "connections = tweets.groupby(\"symbols\").apply(find_outward_connections)\n",
        "#print(connections)"
      ],
      "execution_count": 0,
      "outputs": []
    },
    {
      "cell_type": "code",
      "metadata": {
        "id": "FmqUxxuGl4P6",
        "colab_type": "code",
        "colab": {}
      },
      "source": [
        "connections = connections.reset_index()\n",
        "connections.columns = [\"Source\", \"Target\", \"N\"]\n",
        "#connections"
      ],
      "execution_count": 0,
      "outputs": []
    },
    {
      "cell_type": "markdown",
      "metadata": {
        "id": "QsGlLA8Ll4P8",
        "colab_type": "text"
      },
      "source": [
        "**Replacing $ signs**"
      ]
    },
    {
      "cell_type": "code",
      "metadata": {
        "id": "khVllA8jl4P8",
        "colab_type": "code",
        "colab": {}
      },
      "source": [
        "connections[\"Target\"] = connections[\"Target\"].str.replace(\"$\",\"\")\n",
        "#connections"
      ],
      "execution_count": 0,
      "outputs": []
    },
    {
      "cell_type": "markdown",
      "metadata": {
        "id": "94Dxlyf7l4QA",
        "colab_type": "text"
      },
      "source": [
        "### Building a matrix"
      ]
    },
    {
      "cell_type": "code",
      "metadata": {
        "id": "c4l6pXtFl4QA",
        "colab_type": "code",
        "colab": {}
      },
      "source": [
        "connections = connections.pivot(\"Target\", \"Source\", \"N\")\n",
        "#connections"
      ],
      "execution_count": 0,
      "outputs": []
    },
    {
      "cell_type": "code",
      "metadata": {
        "id": "SUmfUkKCl4QD",
        "colab_type": "code",
        "colab": {}
      },
      "source": [
        "connections = connections.fillna(0)"
      ],
      "execution_count": 0,
      "outputs": []
    },
    {
      "cell_type": "markdown",
      "metadata": {
        "id": "RYx7NlXWl4QH",
        "colab_type": "text"
      },
      "source": [
        "**Analyzing FAANG stock connections**"
      ]
    },
    {
      "cell_type": "code",
      "metadata": {
        "id": "1bXEqAcnl4QI",
        "colab_type": "code",
        "colab": {
          "base_uri": "https://localhost:8080/",
          "height": 156
        },
        "outputId": "69b2f0ba-cff8-4676-c4b0-95a17f5406d9"
      },
      "source": [
        "FAANG =[\"FB\",\"AAPL\",\"AMZN\",\"NFLX\",\"GOOG\"]\n",
        "print(connections.reindex(index=FAANG, columns=FAANG).fillna(0))"
      ],
      "execution_count": 22,
      "outputs": [
        {
          "output_type": "stream",
          "text": [
            "Source    FB  AAPL  AMZN  NFLX  GOOG\n",
            "Target                              \n",
            "FB      50.0   0.0   0.0  25.0  10.0\n",
            "AAPL     1.0  24.0   0.0  18.0  10.0\n",
            "AMZN     1.0   0.0   0.0  33.0  14.0\n",
            "NFLX     0.0   0.0   0.0  69.0   3.0\n",
            "GOOG     0.0   0.0   0.0   1.0  70.0\n"
          ],
          "name": "stdout"
        }
      ]
    },
    {
      "cell_type": "markdown",
      "metadata": {
        "id": "KsY2zIiml4QL",
        "colab_type": "text"
      },
      "source": [
        "**Most referenced stocks (inward connections)**"
      ]
    },
    {
      "cell_type": "code",
      "metadata": {
        "id": "NpOFK6dGl4QL",
        "colab_type": "code",
        "colab": {
          "base_uri": "https://localhost:8080/",
          "height": 258
        },
        "outputId": "0e276daa-7203-4635-c6d9-840f4baa6fae"
      },
      "source": [
        "print(connections.sum(axis=1).sort_values(ascending=False))"
      ],
      "execution_count": 23,
      "outputs": [
        {
          "output_type": "stream",
          "text": [
            "Target\n",
            "NFLX     672.0\n",
            "AMZN     533.0\n",
            "SPY      454.0\n",
            "FB       454.0\n",
            "MSFT     414.0\n",
            "         ...  \n",
            "CRE        1.0\n",
            "NATI       1.0\n",
            "CRES       1.0\n",
            "CRESY      1.0\n",
            "ZZC        1.0\n",
            "Length: 5171, dtype: float64\n"
          ],
          "name": "stdout"
        }
      ]
    },
    {
      "cell_type": "code",
      "metadata": {
        "id": "PhM6Q3rWl4QN",
        "colab_type": "code",
        "colab": {}
      },
      "source": [
        "df_p = connections.sum(axis=1).sort_values(ascending=False)"
      ],
      "execution_count": 0,
      "outputs": []
    },
    {
      "cell_type": "code",
      "metadata": {
        "id": "4LgTCrqsl4QO",
        "colab_type": "code",
        "colab": {
          "base_uri": "https://localhost:8080/",
          "height": 671
        },
        "outputId": "ed12b77a-bdce-4a39-8537-1bd25384b1fe"
      },
      "source": [
        "plt.figure(figsize = (10,10))\n",
        "plt.xticks(fontsize = 15)\n",
        "plt.yticks(fontsize = 15)\n",
        "df_p[:10].plot(kind = 'bar', color = 'black')\n",
        "plt.xlabel(\"Stocks Receiving Most Inbound Tweets\", fontsize = 20)\n",
        "plt.ylabel(\"Number of Tweets Directed at Each Stock\", fontsize = 20)\n",
        "plt.savefig('EDHEC_03_01_MostInboundTweets.jpeg')\n",
        "#plt.title(\"Stocks Ranked by Most Inbound Tweet Connections\", fontsize = 20)\n",
        "plt.show()"
      ],
      "execution_count": 25,
      "outputs": [
        {
          "output_type": "display_data",
          "data": {
            "image/png": "[encoded data removed]",
            "text/plain": [
              "<Figure size 720x720 with 1 Axes>"
            ]
          },
          "metadata": {
            "tags": []
          }
        }
      ]
    },
    {
      "cell_type": "markdown",
      "metadata": {
        "id": "6-v0UFoDl4QQ",
        "colab_type": "text"
      },
      "source": [
        "**Most referencing stocks (outward connections)**"
      ]
    },
    {
      "cell_type": "code",
      "metadata": {
        "id": "-okAftDkl4QR",
        "colab_type": "code",
        "colab": {
          "base_uri": "https://localhost:8080/",
          "height": 258
        },
        "outputId": "3aa57478-0600-468d-cb13-5d1ff6d951f0"
      },
      "source": [
        "print(connections.sum().sort_values(ascending=False))"
      ],
      "execution_count": 26,
      "outputs": [
        {
          "output_type": "stream",
          "text": [
            "Source\n",
            "SQQQ      1353.0\n",
            "CTAS       920.0\n",
            "ESS        890.0\n",
            "HCP        872.0\n",
            "ERIC       762.0\n",
            "           ...  \n",
            "TSS         12.0\n",
            "CMS         12.0\n",
            "M            2.0\n",
            "GS           1.0\n",
            "ticker       1.0\n",
            "Length: 448, dtype: float64\n"
          ],
          "name": "stdout"
        }
      ]
    },
    {
      "cell_type": "code",
      "metadata": {
        "id": "CApPwguul4QS",
        "colab_type": "code",
        "colab": {}
      },
      "source": [
        "#print(connections.stack())"
      ],
      "execution_count": 0,
      "outputs": []
    },
    {
      "cell_type": "markdown",
      "metadata": {
        "id": "Fny3rnUHl4QU",
        "colab_type": "text"
      },
      "source": [
        "**Unique connections**"
      ]
    },
    {
      "cell_type": "code",
      "metadata": {
        "id": "RhOEbW4Bl4QV",
        "colab_type": "code",
        "colab": {
          "base_uri": "https://localhost:8080/",
          "height": 54
        },
        "outputId": "d53d2873-15cb-48c1-a6dc-be3625ce3816"
      },
      "source": [
        "print((connections.stack() > 0).sum())"
      ],
      "execution_count": 28,
      "outputs": [
        {
          "output_type": "stream",
          "text": [
            "23047\n"
          ],
          "name": "stdout"
        }
      ]
    },
    {
      "cell_type": "markdown",
      "metadata": {
        "id": "9ExIJ5jUl4QW",
        "colab_type": "text"
      },
      "source": [
        "### Cumulative Density Function (CDF) of Unique Connections"
      ]
    },
    {
      "cell_type": "code",
      "metadata": {
        "id": "ntY9G1Ucl4QX",
        "colab_type": "code",
        "colab": {}
      },
      "source": [
        "unique_connections = connections.stack()\n",
        "unique_connections = unique_connections[unique_connections > 0]\n",
        "unique_connections = unique_connections.sort_values()\n",
        "cdf = pd.Series(list(range(1,len(unique_connections)+1)), index=unique_connections)\n",
        "#print(cdf)"
      ],
      "execution_count": 0,
      "outputs": []
    },
    {
      "cell_type": "code",
      "metadata": {
        "id": "3-6t2605l4QY",
        "colab_type": "code",
        "colab": {}
      },
      "source": [
        "cdf = cdf / len(unique_connections)\n",
        "#cdf"
      ],
      "execution_count": 0,
      "outputs": []
    },
    {
      "cell_type": "code",
      "metadata": {
        "id": "H5Y2dr2Dl4Qa",
        "colab_type": "code",
        "colab": {}
      },
      "source": [
        "cdf = cdf.groupby(cdf.index).max()\n",
        "#print(cdf)"
      ],
      "execution_count": 0,
      "outputs": []
    },
    {
      "cell_type": "markdown",
      "metadata": {
        "id": "yDyZ9n8rl4Qb",
        "colab_type": "text"
      },
      "source": [
        "**Visualization of CDF**"
      ]
    },
    {
      "cell_type": "code",
      "metadata": {
        "id": "5SzMx727l4Qb",
        "colab_type": "code",
        "colab": {
          "base_uri": "https://localhost:8080/",
          "height": 651
        },
        "outputId": "90225014-8a44-4091-bedd-f4f08527849c"
      },
      "source": [
        "plt.figure(figsize = (10,10))\n",
        "plt.xticks(size = 20)\n",
        "plt.yticks(size = 20)\n",
        "plt.xlabel(\"Number of Unique Connections\", fontsize = 20)\n",
        "plt.ylabel(\"Cumulative Density Function\", fontsize = 20)\n",
        "\n",
        "plt.axhline(0.95, ls=\":\", color = \"orange\", linewidth = 3)\n",
        "plt.axvline(9, ls=\":\", color=\"orange\", label = \"95% CDF\", linewidth = 3)\n",
        "\n",
        "plt.axhline(0.97, ls=\"-.\", color = \"green\")\n",
        "plt.axvline(16, ls=\"-.\", color=\"green\", label = \"97% CDF\")\n",
        "\n",
        "cdf.plot(kind='line', color = \"blue\", linewidth = 4)\n",
        "plt.xlim(0, 100)\n",
        "plt.ylim(0.60, 1.00)\n",
        "\n",
        "plt.savefig('EDHEC_03_02_CDF.jpeg')\n",
        "plt.show()"
      ],
      "execution_count": 32,
      "outputs": [
        {
          "output_type": "display_data",
          "data": {
            "image/png": "[encoded data removed]",
            "text/plain": [
              "<Figure size 720x720 with 1 Axes>"
            ]
          },
          "metadata": {
            "tags": []
          }
        }
      ]
    },
    {
      "cell_type": "markdown",
      "metadata": {
        "id": "9sry_GGcl4Qd",
        "colab_type": "text"
      },
      "source": [
        "---\n",
        "# 2. Network Visualization\n",
        "### Understanding how tickers reference each other"
      ]
    },
    {
      "cell_type": "markdown",
      "metadata": {
        "id": "DyG9eihEl4Qd",
        "colab_type": "text"
      },
      "source": [
        "**Building Network for Netflix**"
      ]
    },
    {
      "cell_type": "code",
      "metadata": {
        "id": "nFZHUcN4l4Qd",
        "colab_type": "code",
        "colab": {}
      },
      "source": [
        "nflx_target = connections.loc[\"NFLX\"]\n",
        "nflx_target = nflx_target.sort_values(ascending=False)\n",
        "#print(nflx_target.head(6))"
      ],
      "execution_count": 0,
      "outputs": []
    },
    {
      "cell_type": "markdown",
      "metadata": {
        "id": "XTFY24xpl4Qf",
        "colab_type": "text"
      },
      "source": [
        "**First Level Connections**"
      ]
    },
    {
      "cell_type": "code",
      "metadata": {
        "id": "jO9_j9S7l4Qf",
        "colab_type": "code",
        "colab": {}
      },
      "source": [
        "first_level = nflx_target.head(6).reset_index()\n",
        "first_level.columns = [\"Source\", \"Connections\"]\n",
        "first_level[\"Target\"] = \"NFLX\"\n",
        "#print(first_level)"
      ],
      "execution_count": 0,
      "outputs": []
    },
    {
      "cell_type": "markdown",
      "metadata": {
        "id": "s1wP0-nkl4Qg",
        "colab_type": "text"
      },
      "source": [
        "**Second level Connections: Limit 6**"
      ]
    },
    {
      "cell_type": "code",
      "metadata": {
        "id": "mec3H9PIl4Qh",
        "colab_type": "code",
        "colab": {}
      },
      "source": [
        "second_level = []\n",
        "for x in first_level[\"Source\"]:\n",
        "    if x == \"NFLX\":\n",
        "        pass\n",
        "    else:\n",
        "        target = connections.loc[x]\n",
        "        target = target.sort_values(ascending=False)\n",
        "        target = target[target>0].head(6)\n",
        "        target = target.reset_index()\n",
        "        target.columns = [\"Source\", \"Connections\"]\n",
        "        target[\"Target\"] = x\n",
        "        second_level.append(target)\n",
        "second_level = pd.concat(second_level)\n",
        "#print(second_level)"
      ],
      "execution_count": 0,
      "outputs": []
    },
    {
      "cell_type": "markdown",
      "metadata": {
        "id": "GIp4FG_1l4Qj",
        "colab_type": "text"
      },
      "source": [
        "**Third Level Connections**"
      ]
    },
    {
      "cell_type": "code",
      "metadata": {
        "id": "dQiQsKupl4Qj",
        "colab_type": "code",
        "colab": {}
      },
      "source": [
        "third_level = []\n",
        "for x in second_level[\"Source\"]:\n",
        "    if x in first_level[\"Target\"] or x in second_level[\"Target\"]:\n",
        "        pass\n",
        "    else:\n",
        "        target = connections.loc[x]\n",
        "        target = target.sort_values(ascending=False)\n",
        "        target = target[target>0].head(6)\n",
        "        target = target.reset_index()\n",
        "        target.columns = [\"Source\", \"Connections\"]\n",
        "        target[\"Target\"] = x\n",
        "        third_level.append(target)\n",
        "third_level = pd.concat(third_level)\n",
        "#print(third_level)"
      ],
      "execution_count": 0,
      "outputs": []
    },
    {
      "cell_type": "markdown",
      "metadata": {
        "id": "fbREPld_l4Qk",
        "colab_type": "text"
      },
      "source": [
        "### Visualization\n",
        "\n",
        "**Graph Initialiation**"
      ]
    },
    {
      "cell_type": "code",
      "metadata": {
        "id": "zlA5J3Lyl4Qk",
        "colab_type": "code",
        "colab": {}
      },
      "source": [
        "G = nx.Graph()\n",
        "#Add a node\n",
        "G.add_node(\"NFLX\")\n",
        "#Draw and show the graph\n",
        "#nx.draw(G, with_labels=True, font_weight='bold')\n",
        "#plt.show()"
      ],
      "execution_count": 0,
      "outputs": []
    },
    {
      "cell_type": "markdown",
      "metadata": {
        "id": "r2qvRTgDl4Qo",
        "colab_type": "text"
      },
      "source": [
        "**First and Second Degree Nodes**"
      ]
    },
    {
      "cell_type": "code",
      "metadata": {
        "id": "tQHzBofXl4Qo",
        "colab_type": "code",
        "colab": {}
      },
      "source": [
        "G = nx.Graph()\n",
        "for node in set(list(first_level[\"Target\"]) + list(first_level[\"Source\"])):\n",
        "    G.add_node(node)\n",
        "# nx.draw(G, with_labels=True, font_weight='bold')\n",
        "# plt.show()"
      ],
      "execution_count": 0,
      "outputs": []
    },
    {
      "cell_type": "markdown",
      "metadata": {
        "id": "EXQmtYZJl4Qr",
        "colab_type": "text"
      },
      "source": [
        "**Adding Edges**"
      ]
    },
    {
      "cell_type": "code",
      "metadata": {
        "id": "EhMGpUa0l4Qr",
        "colab_type": "code",
        "colab": {}
      },
      "source": [
        "G = nx.Graph()\n",
        "for node in set(list(first_level[\"Target\"]) + list(first_level[\"Source\"])):\n",
        "    G.add_node(node)\n",
        "#An example of how to draw connections between nodes\n",
        "G.add_edges_from([[\"NFLX\", \"HON\"], [\"NFLX\", \"SIRI\"]])\n",
        "# nx.draw(G, with_labels=True, font_weight='bold')\n",
        "# plt.show()"
      ],
      "execution_count": 0,
      "outputs": []
    },
    {
      "cell_type": "markdown",
      "metadata": {
        "id": "H1exTdLil4Qt",
        "colab_type": "text"
      },
      "source": [
        "**Graph: First Degree Connections with Edges**"
      ]
    },
    {
      "cell_type": "code",
      "metadata": {
        "id": "CDy8edGZl4Qt",
        "colab_type": "code",
        "colab": {
          "base_uri": "https://localhost:8080/",
          "height": 319
        },
        "outputId": "08b13c04-ac28-45e0-8d53-323067e61f55"
      },
      "source": [
        "G = nx.Graph()\n",
        "for node in set(list(first_level[\"Target\"]) + list(first_level[\"Source\"])):\n",
        "    G.add_node(node)\n",
        "G.add_edges_from(first_level[[\"Source\", \"Target\"]].values)\n",
        "nx.draw(G, with_labels=True, font_weight='bold')\n",
        "plt.show()"
      ],
      "execution_count": 40,
      "outputs": [
        {
          "output_type": "display_data",
          "data": {
            "image/png": "[encoded data removed]",
            "text/plain": [
              "<Figure size 432x288 with 1 Axes>"
            ]
          },
          "metadata": {
            "tags": []
          }
        }
      ]
    },
    {
      "cell_type": "markdown",
      "metadata": {
        "id": "bW5z7X5Vl4Qw",
        "colab_type": "text"
      },
      "source": [
        "**Graph: Second Degree Connections with Edges**"
      ]
    },
    {
      "cell_type": "code",
      "metadata": {
        "id": "xhNIWT9rl4Qw",
        "colab_type": "code",
        "colab": {
          "base_uri": "https://localhost:8080/",
          "height": 751
        },
        "outputId": "6806eede-bf97-4511-ae77-52e06381d997"
      },
      "source": [
        "plt.figure(figsize = (10,10))\n",
        "\n",
        "G = nx.Graph()\n",
        "#Create a dataframe which holds first level and second level\n",
        "graph_nodes = pd.concat([first_level, second_level])\n",
        "for node in set(list(graph_nodes[\"Target\"]) + list(graph_nodes[\"Source\"])):\n",
        "    G.add_node(node)\n",
        "G.add_edges_from(graph_nodes[[\"Source\", \"Target\"]].values)\n",
        "nx.draw(G, with_labels=True, font_weight='bold')\n",
        "\n",
        "plt.savefig('EDHEC_03_02_Network.jpeg')\n",
        "plt.show()"
      ],
      "execution_count": 41,
      "outputs": [
        {
          "output_type": "display_data",
          "data": {
            "image/png": "[encoded data removed]",
            "text/plain": [
              "<Figure size 720x720 with 1 Axes>"
            ]
          },
          "metadata": {
            "tags": []
          }
        }
      ]
    },
    {
      "cell_type": "markdown",
      "metadata": {
        "id": "BJdHKNiel4Qx",
        "colab_type": "text"
      },
      "source": [
        "**Graph: Third Degree Connections with Edges**"
      ]
    },
    {
      "cell_type": "code",
      "metadata": {
        "id": "44A0qV8gl4Qz",
        "colab_type": "code",
        "colab": {
          "base_uri": "https://localhost:8080/",
          "height": 319
        },
        "outputId": "981d3bfe-ba48-4c90-b86b-4ae65836dcdd"
      },
      "source": [
        "G = nx.Graph()\n",
        "graph_nodes = pd.concat([first_level, second_level, third_level])\n",
        "for node in set(list(graph_nodes[\"Target\"]) + list(graph_nodes[\"Source\"])):\n",
        "    G.add_node(node)\n",
        "G.add_edges_from(graph_nodes[[\"Source\", \"Target\"]].values)\n",
        "nx.draw(G, with_labels=True, font_weight='bold')\n",
        "plt.show()"
      ],
      "execution_count": 42,
      "outputs": [
        {
          "output_type": "display_data",
          "data": {
            "image/png": "[encoded data removed]",
            "text/plain": [
              "<Figure size 432x288 with 1 Axes>"
            ]
          },
          "metadata": {
            "tags": []
          }
        }
      ]
    },
    {
      "cell_type": "markdown",
      "metadata": {
        "id": "S0nTQGPPl4Q2",
        "colab_type": "text"
      },
      "source": [
        "---\n",
        "\n",
        "# 3. Replicating PageRank\n",
        "\n",
        "+ Network Visualization just used raw frequency to compute first, second, and third degree connections.\n",
        "+ Here, the quality of the incoming connections is also weighed to determine the overall ranking"
      ]
    },
    {
      "cell_type": "markdown",
      "metadata": {
        "id": "jkwYW0jsl4Q2",
        "colab_type": "text"
      },
      "source": [
        "### Converting Twitter database into a matrix"
      ]
    },
    {
      "cell_type": "code",
      "metadata": {
        "id": "y-KK6FBRl4Q3",
        "colab_type": "code",
        "colab": {}
      },
      "source": [
        "#print(connections)\n",
        "\n",
        "#Let's turn it into a binary matrix\n",
        "connections_binary = connections.copy()\n",
        "connections_binary[connections_binary > 0] = 1\n",
        "\n",
        "#Reindex so that all index and column values are present\n",
        "i = connections_binary.index.union(connections_binary.columns)\n",
        "connections_binary = connections_binary.reindex(index=i, columns=i).fillna(0)"
      ],
      "execution_count": 0,
      "outputs": []
    },
    {
      "cell_type": "markdown",
      "metadata": {
        "id": "r1rT0VBQl4Q5",
        "colab_type": "text"
      },
      "source": [
        "**Eliminating diagonal elements**"
      ]
    },
    {
      "cell_type": "code",
      "metadata": {
        "id": "xOGq4cfpl4Q5",
        "colab_type": "code",
        "colab": {}
      },
      "source": [
        "#First grab the indices present in the matrix\n",
        "rows, cols = np.indices((len(connections_binary.columns), len(connections_binary.columns)))\n",
        "\n",
        "#Diagonal elements indices\n",
        "#print(rows == cols)\n",
        "\n",
        "mask = rows == cols\n",
        "connections_binary = connections_binary.mask(mask).fillna(0)\n",
        "#print(connections_binary)"
      ],
      "execution_count": 0,
      "outputs": []
    },
    {
      "cell_type": "markdown",
      "metadata": {
        "id": "kSY-6tUXl4Q6",
        "colab_type": "text"
      },
      "source": [
        "**Normalizing the columns to sum to 1**"
      ]
    },
    {
      "cell_type": "code",
      "metadata": {
        "scrolled": true,
        "id": "GmrlnsgUl4Q7",
        "colab_type": "code",
        "colab": {
          "base_uri": "https://localhost:8080/",
          "height": 255
        },
        "outputId": "12a0bed9-7fb9-4f40-c157-ded35818549a"
      },
      "source": [
        "connections_binary = (connections_binary / connections_binary.sum()).fillna(0)\n",
        "print(connections_binary)"
      ],
      "execution_count": 45,
      "outputs": [
        {
          "output_type": "stream",
          "text": [
            "          A   AA  AABA  AAC  AAGC  AAL  ...  ZUO  ZYB  ZYME  ZYNE  ZZC  ticker\n",
            "A       0.0  0.0   0.0  0.0   0.0  0.0  ...  0.0  0.0   0.0   0.0  0.0     0.0\n",
            "AA      0.0  0.0   0.0  0.0   0.0  0.0  ...  0.0  0.0   0.0   0.0  0.0     0.0\n",
            "AABA    0.0  0.0   0.0  0.0   0.0  0.0  ...  0.0  0.0   0.0   0.0  0.0     0.0\n",
            "AAC     0.0  0.0   0.0  0.0   0.0  0.0  ...  0.0  0.0   0.0   0.0  0.0     0.0\n",
            "AAGC    0.0  0.0   0.0  0.0   0.0  0.0  ...  0.0  0.0   0.0   0.0  0.0     0.0\n",
            "...     ...  ...   ...  ...   ...  ...  ...  ...  ...   ...   ...  ...     ...\n",
            "ZYB     0.0  0.0   0.0  0.0   0.0  0.0  ...  0.0  0.0   0.0   0.0  0.0     0.0\n",
            "ZYME    0.0  0.0   0.0  0.0   0.0  0.0  ...  0.0  0.0   0.0   0.0  0.0     0.0\n",
            "ZYNE    0.0  0.0   0.0  0.0   0.0  0.0  ...  0.0  0.0   0.0   0.0  0.0     0.0\n",
            "ZZC     0.0  0.0   0.0  0.0   0.0  0.0  ...  0.0  0.0   0.0   0.0  0.0     0.0\n",
            "ticker  0.0  0.0   0.0  0.0   0.0  0.0  ...  0.0  0.0   0.0   0.0  0.0     0.0\n",
            "\n",
            "[5172 rows x 5172 columns]\n"
          ],
          "name": "stdout"
        }
      ]
    },
    {
      "cell_type": "markdown",
      "metadata": {
        "id": "9cYlYY-Il4Q8",
        "colab_type": "text"
      },
      "source": [
        "**Setting up Page Rank Vector**"
      ]
    },
    {
      "cell_type": "code",
      "metadata": {
        "id": "ic0zKJUhl4Q9",
        "colab_type": "code",
        "colab": {
          "base_uri": "https://localhost:8080/",
          "height": 238
        },
        "outputId": "0c71e17d-dbd0-4a50-f03b-4ec3ee7a64ba"
      },
      "source": [
        "page_rank_vector = pd.Series(1/len(connections_binary), index = connections_binary.index)\n",
        "\n",
        "#Start with a dummy old value\n",
        "page_rank_vector_old = pd.Series(100, index = connections_binary.index)\n",
        "damping_factor = .85\n",
        "\n",
        "i = 0\n",
        "while np.linalg.norm(page_rank_vector - page_rank_vector_old, 2) > 1.0e-6:\n",
        "    page_rank_vector_old = page_rank_vector\n",
        "    page_rank_vector = (1-damping_factor)/len(connections_binary) + damping_factor * connections_binary.dot(page_rank_vector)\n",
        "    i+=1\n",
        "print(page_rank_vector.sort_values(ascending=False))\n",
        "print(\"Took {} loops to converge\".format(i))"
      ],
      "execution_count": 46,
      "outputs": [
        {
          "output_type": "stream",
          "text": [
            "AMZN      0.000251\n",
            "IBM       0.000211\n",
            "LINK      0.000204\n",
            "MSFT      0.000203\n",
            "NFLX      0.000152\n",
            "            ...   \n",
            "LUK       0.000029\n",
            "RHI       0.000029\n",
            "COO       0.000029\n",
            "ALLE      0.000029\n",
            "ticker    0.000029\n",
            "Length: 5172, dtype: float64\n",
            "Took 9 loops to converge\n"
          ],
          "name": "stdout"
        }
      ]
    },
    {
      "cell_type": "code",
      "metadata": {
        "id": "8BuWbtvXl4Q-",
        "colab_type": "code",
        "colab": {}
      },
      "source": [
        "df2 = page_rank_vector.sort_values(ascending=False)"
      ],
      "execution_count": 0,
      "outputs": []
    },
    {
      "cell_type": "markdown",
      "metadata": {
        "id": "IqEwA3swl4Q_",
        "colab_type": "text"
      },
      "source": [
        "### Visualization"
      ]
    },
    {
      "cell_type": "code",
      "metadata": {
        "id": "NF86Rhunl4RA",
        "colab_type": "code",
        "colab": {
          "base_uri": "https://localhost:8080/",
          "height": 664
        },
        "outputId": "c8797ec7-af85-46ee-fc03-cfe6fac8fc85"
      },
      "source": [
        "plt.figure(figsize = (10,10))\n",
        "plt.xticks(fontsize = 20)\n",
        "plt.ylabel(\"'Page Rank' Rating Computed from Tweets\", fontsize = 20)\n",
        "plt.xlabel(\"Top 10 Stocks\", fontsize = 20)\n",
        "#plt.title(\"Stocks Ranked by 'Page Rank' Algorithm Computed From Tweets\", fontsize = 20)\n",
        "df2[:10].plot(kind = 'bar')\n",
        "plt.yticks(fontsize = 10, ticks = None )\n",
        "plt.savefig('EDHEC_03_03_PageRankResults.jpeg')\n",
        "plt.show()"
      ],
      "execution_count": 48,
      "outputs": [
        {
          "output_type": "display_data",
          "data": {
            "image/png": "[encoded data removed]",
            "text/plain": [
              "<Figure size 720x720 with 1 Axes>"
            ]
          },
          "metadata": {
            "tags": []
          }
        }
      ]
    },
    {
      "cell_type": "code",
      "metadata": {
        "id": "vtoiyWXzl4RB",
        "colab_type": "code",
        "colab": {}
      },
      "source": [
        ""
      ],
      "execution_count": 0,
      "outputs": []
    }
  ]
}